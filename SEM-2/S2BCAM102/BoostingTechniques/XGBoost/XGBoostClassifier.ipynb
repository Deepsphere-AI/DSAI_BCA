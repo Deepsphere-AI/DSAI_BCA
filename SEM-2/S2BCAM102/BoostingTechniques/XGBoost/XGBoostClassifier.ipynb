{
  "nbformat": 4,
  "nbformat_minor": 0,
  "metadata": {
    "colab": {
      "name": "XGBoost_classifier.ipynb",
      "provenance": []
    },
    "kernelspec": {
      "name": "python3",
      "display_name": "Python 3"
    },
    "language_info": {
      "name": "python"
    }
  },
  "cells": [
    {
      "cell_type": "markdown",
      "source": [
        "# **Disclaimer:**\n",
        "\n",
        "> DeepSphere.AI developed these materials based on its team’s expertise and technical infrastructure, and we are sharing these materials strictly for learning and research. These learning resources may not work on other learning infrastructures and DeepSphere.AI advises the learners to use these materials at their own risk. As needed, we will be changing these materials without any notification and we have full ownership and accountability to make any change to these materials.\n",
        "\n"
      ],
      "metadata": {
        "id": "wd9r6bzJRq5G"
      }
    },
    {
      "cell_type": "markdown",
      "source": [
        "# **Problem Statement:**\n",
        "\n",
        "> This Project aims to use the XGBoost algorithm to classify and predict whether a person has heart disease or not based on age, sex, cp, …, thal, etc. So, we will build an XGBoost model for this classification problem and evaluate its performance on test data using the model’s evaluation metrics such as Accuracy and Area under the ROC curve.\n",
        "\n"
      ],
      "metadata": {
        "id": "AjKwvQ93Ry5h"
      }
    },
    {
      "cell_type": "markdown",
      "source": [
        "**data Source**\n",
        "\n",
        "***NOTE: Participants are requested to download the CSV data from below path to their GDrive Account, then follow/execute the below snippets***\n",
        "\n",
        "https://drive.google.com/drive/folders/1lu3GxwCtjNSUKWjN1cg6v0B3oAIFMY5I?usp=sharing"
      ],
      "metadata": {
        "id": "sIZO1uxzZQpn"
      }
    },
    {
      "cell_type": "code",
      "source": [
        "import numpy   as np\n",
        "import pandas  as pd\n",
        "import xgboost as xgb\n",
        "from sklearn.metrics          import accuracy_score\n",
        "from sklearn.metrics          import plot_roc_curve\n",
        "from sklearn.model_selection  import train_test_split\n",
        "from google.colab             import drive"
      ],
      "metadata": {
        "id": "yDizcMao2G4Q"
      },
      "execution_count": null,
      "outputs": []
    },
    {
      "cell_type": "code",
      "execution_count": null,
      "metadata": {
        "id": "1nw8jLF8ZZPw"
      },
      "outputs": [],
      "source": [
        "class XGBoost_classifier:\n",
        "  def __init__(self):\n",
        "    self.path = ''\n",
        "\n",
        "  def read_data_from_drive(self):\n",
        "\n",
        "    drive.mount('/content/drive')\n",
        "    !mkdir temp\n",
        "\n",
        "    !cp -av '/content/drive/MyDrive/heart_disease.csv' '/content/temp/heart_disease.csv'\n",
        "    self.path = '/content/temp/heart_disease.csv'\n",
        "\n",
        "  def split_traintest_set(self):\n",
        "    vAR_df = pd.read_csv(self.path) \n",
        "    \n",
        "    print(vAR_df.head)\n",
        "    print(vAR_df.info())\n",
        "    vAR_X = df.iloc[:,:-1]\n",
        "    vAR_y = df.iloc[:,-1] \n",
        "\n",
        "    # Making train and test sets for both X and y\n",
        "    self.X_train, self.X_test, self.y_train, self.y_test = train_test_split(vAR_X, vAR_y, test_size=0.2, \n",
        "                                                        random_state=42, shuffle=True)\n",
        "    \n",
        "  def train_test_model(self):\n",
        "    xgb_clf = xgb.XGBClassifier(max_depth=3, n_estimators=100,\n",
        "                            objective='binary:logistic', booster='gbtree',\n",
        "                            n_jobs=2, random_state=1)\n",
        "    \n",
        "    xgb_clf.fit(self.X_train, self.y_train)\n",
        "\n",
        "    vAR_y_pred = xgb_clf.predict(self.X_test) \n",
        "    vAR_y_true = self.y_test \n",
        "\n",
        "    print(\"Accuracy: \", np.round(accuracy_score(vAR_y_true, vAR_y_pred), 3))\n",
        "    print(\"\\nROC Curve\")\n",
        "    print(plot_roc_curve(xgb_clf, self.X_test, self.y_test))\n",
        "\n",
        "  def run_all(self):\n",
        "    self.read_data_from_drive()\n",
        "    self.split_traintest_set()\n",
        "    self.train_test_model()"
      ]
    },
    {
      "cell_type": "code",
      "source": [
        "vAR_obj = XGBoost_classifier()\n",
        "vAR_obj.run_all()"
      ],
      "metadata": {
        "id": "MbSljBlIZdD-",
        "colab": {
          "base_uri": "https://localhost:8080/",
          "height": 1000
        },
        "outputId": "58289b03-da42-48c5-9d6f-10840e008321"
      },
      "execution_count": null,
      "outputs": [
        {
          "output_type": "stream",
          "name": "stdout",
          "text": [
            "Drive already mounted at /content/drive; to attempt to forcibly remount, call drive.mount(\"/content/drive\", force_remount=True).\n",
            "mkdir: cannot create directory ‘temp’: File exists\n",
            "'/content/drive/MyDrive/Heart_D_ClF/heart_disease.csv' -> '/content/temp/heart_disease.csv'\n",
            "<bound method NDFrame.head of      age  sex  cp  trestbps  chol  fbs  restecg  thalach  exang  oldpeak  \\\n",
            "0     63    1   3       145   233    1        0      150      0      2.3   \n",
            "1     37    1   2       130   250    0        1      187      0      3.5   \n",
            "2     41    0   1       130   204    0        0      172      0      1.4   \n",
            "3     56    1   1       120   236    0        1      178      0      0.8   \n",
            "4     57    0   0       120   354    0        1      163      1      0.6   \n",
            "..   ...  ...  ..       ...   ...  ...      ...      ...    ...      ...   \n",
            "298   57    0   0       140   241    0        1      123      1      0.2   \n",
            "299   45    1   3       110   264    0        1      132      0      1.2   \n",
            "300   68    1   0       144   193    1        1      141      0      3.4   \n",
            "301   57    1   0       130   131    0        1      115      1      1.2   \n",
            "302   57    0   1       130   236    0        0      174      0      0.0   \n",
            "\n",
            "     slope  ca  thal  target  \n",
            "0        0   0     1       1  \n",
            "1        0   0     2       1  \n",
            "2        2   0     2       1  \n",
            "3        2   0     2       1  \n",
            "4        2   0     2       1  \n",
            "..     ...  ..   ...     ...  \n",
            "298      1   0     3       0  \n",
            "299      1   0     3       0  \n",
            "300      1   2     3       0  \n",
            "301      1   1     3       0  \n",
            "302      1   1     2       0  \n",
            "\n",
            "[303 rows x 14 columns]>\n",
            "<class 'pandas.core.frame.DataFrame'>\n",
            "RangeIndex: 303 entries, 0 to 302\n",
            "Data columns (total 14 columns):\n",
            " #   Column    Non-Null Count  Dtype  \n",
            "---  ------    --------------  -----  \n",
            " 0   age       303 non-null    int64  \n",
            " 1   sex       303 non-null    int64  \n",
            " 2   cp        303 non-null    int64  \n",
            " 3   trestbps  303 non-null    int64  \n",
            " 4   chol      303 non-null    int64  \n",
            " 5   fbs       303 non-null    int64  \n",
            " 6   restecg   303 non-null    int64  \n",
            " 7   thalach   303 non-null    int64  \n",
            " 8   exang     303 non-null    int64  \n",
            " 9   oldpeak   303 non-null    float64\n",
            " 10  slope     303 non-null    int64  \n",
            " 11  ca        303 non-null    int64  \n",
            " 12  thal      303 non-null    int64  \n",
            " 13  target    303 non-null    int64  \n",
            "dtypes: float64(1), int64(13)\n",
            "memory usage: 33.3 KB\n",
            "None\n",
            "Accuracy:  0.852\n",
            "\n",
            "ROC Curve\n",
            "<sklearn.metrics._plot.roc_curve.RocCurveDisplay object at 0x7f34ace06bd0>"
          ]
        },
        {
          "output_type": "stream",
          "name": "stderr",
          "text": [
            "/usr/local/lib/python3.7/dist-packages/sklearn/utils/deprecation.py:87: FutureWarning: Function plot_roc_curve is deprecated; Function :func:`plot_roc_curve` is deprecated in 1.0 and will be removed in 1.2. Use one of the class methods: :meth:`sklearn.metric.RocCurveDisplay.from_predictions` or :meth:`sklearn.metric.RocCurveDisplay.from_estimator`.\n",
            "  warnings.warn(msg, category=FutureWarning)\n"
          ]
        },
        {
          "output_type": "stream",
          "name": "stdout",
          "text": [
            "\n"
          ]
        },
        {
          "output_type": "display_data",
          "data": {
            "text/plain": [
              "<Figure size 432x288 with 1 Axes>"
            ],
            "image/png": "[encoded data removed]"
          },
          "metadata": {
            "needs_background": "light"
          }
        }
      ]
    },
    {
      "cell_type": "code",
      "source": [
        ""
      ],
      "metadata": {
        "id": "ki61LCuGLNP7"
      },
      "execution_count": null,
      "outputs": []
    }
  ]
}
