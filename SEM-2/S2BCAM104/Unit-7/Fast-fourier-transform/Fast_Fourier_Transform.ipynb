{
  "nbformat": 4,
  "nbformat_minor": 0,
  "metadata": {
    "colab": {
      "name": "Fast_Fourier_Transform.ipynb",
      "provenance": []
    },
    "kernelspec": {
      "name": "python3",
      "display_name": "Python 3"
    },
    "language_info": {
      "name": "python"
    }
  },
  "cells": [
    {
      "cell_type": "markdown",
      "source": [
        "Example 1 : Finding Fourier Transform of an array"
      ],
      "metadata": {
        "id": "R2oYro0DlMRW"
      }
    },
    {
      "cell_type": "code",
      "execution_count": 2,
      "metadata": {
        "colab": {
          "base_uri": "https://localhost:8080/"
        },
        "id": "BeF9b9I-bljr",
        "outputId": "c506cdce-5144-4edc-e740-475e404f0f81"
      },
      "outputs": [
        {
          "output_type": "stream",
          "name": "stdout",
          "text": [
            "[10.-0.j -2.+2.j -2.-0.j -2.-2.j]\n"
          ]
        }
      ],
      "source": [
        "import numpy as np\n",
        "from scipy.fftpack import fft\n",
        "x = np.array([1,2,3,4])\n",
        "y = fft(x)\n",
        "print(y)"
      ]
    },
    {
      "cell_type": "markdown",
      "source": [
        "Example 2 : Generate noisy input signal and generate sampling frequencies from signal"
      ],
      "metadata": {
        "id": "CWI6qGIllp6P"
      }
    },
    {
      "cell_type": "code",
      "source": [
        "import numpy as np\n",
        "time_step = 0.1\n",
        "period = 2.\n",
        "time_vec = np.arange(0, 5, time_step)\n",
        "sig = np.sin(2 * np.pi / period * time_vec) + 0.5 *np.random.randn(time_vec.size)\n",
        "print(sig.size)\n",
        "\n",
        "from scipy import fftpack\n",
        "sample_freq = fftpack.fftfreq(sig.size, d = time_step)\n",
        "sig_fft = fftpack.fft(sig)\n",
        "print (sig_fft)"
      ],
      "metadata": {
        "colab": {
          "base_uri": "https://localhost:8080/"
        },
        "id": "a02axc5UlRdm",
        "outputId": "972bb259-802d-4153-cf7c-fa846d1398b5"
      },
      "execution_count": 10,
      "outputs": [
        {
          "output_type": "stream",
          "name": "stdout",
          "text": [
            "50\n",
            "[  4.38446858-0.j           9.59886411+0.46725499j\n",
            "  17.115951  +1.04718377j -16.12791335-1.14035181j\n",
            "  -9.29693527-0.14446566j  -2.21481991-3.08431824j\n",
            "  -0.32613179-1.25179365j  -0.38116646-0.83609382j\n",
            "   0.81812785+2.34961249j  -0.83718853-1.40986253j\n",
            "  -2.24723796-0.73800614j   1.16751719-1.00585395j\n",
            "  -3.86706452-6.15355454j  -1.64972027-1.34830422j\n",
            "   1.70447578+0.93521953j   0.03114808-1.88404042j\n",
            "  -0.37265349+4.64446939j  -1.37937966-2.17341306j\n",
            "   0.41637082+5.65661241j  -2.85695136-0.56542233j\n",
            "  -1.52788029+2.24872918j   0.4707896 -3.19623217j\n",
            "  -2.27056912+4.44824037j   1.50025194+5.6479134j\n",
            "   0.85094969-2.20094974j  -3.642361  -0.j\n",
            "   0.85094969+2.20094974j   1.50025194-5.6479134j\n",
            "  -2.27056912-4.44824037j   0.4707896 +3.19623217j\n",
            "  -1.52788029-2.24872918j  -2.85695136+0.56542233j\n",
            "   0.41637082-5.65661241j  -1.37937966+2.17341306j\n",
            "  -0.37265349-4.64446939j   0.03114808+1.88404042j\n",
            "   1.70447578-0.93521953j  -1.64972027+1.34830422j\n",
            "  -3.86706452+6.15355454j   1.16751719+1.00585395j\n",
            "  -2.24723796+0.73800614j  -0.83718853+1.40986253j\n",
            "   0.81812785-2.34961249j  -0.38116646+0.83609382j\n",
            "  -0.32613179+1.25179365j  -2.21481991+3.08431824j\n",
            "  -9.29693527+0.14446566j -16.12791335+1.14035181j\n",
            "  17.115951  -1.04718377j   9.59886411-0.46725499j]\n"
          ]
        }
      ]
    },
    {
      "cell_type": "markdown",
      "source": [
        "Example 3 : Finding Inverse of discrete complex or real numbers"
      ],
      "metadata": {
        "id": "oKhDjBGUo8ks"
      }
    },
    {
      "cell_type": "code",
      "source": [
        "from scipy.fftpack import ifft\n",
        "x = np.array([1,2,3,4])\n",
        "y = ifft(x)\n",
        "print(y)"
      ],
      "metadata": {
        "colab": {
          "base_uri": "https://localhost:8080/"
        },
        "id": "osgRSFSgnLIz",
        "outputId": "294ace1f-9fb5-448b-f739-0af4e09a7f96"
      },
      "execution_count": 16,
      "outputs": [
        {
          "output_type": "stream",
          "name": "stdout",
          "text": [
            "[ 2.5-0.j  -0.5-0.5j -0.5-0.j  -0.5+0.5j]\n"
          ]
        }
      ]
    },
    {
      "cell_type": "markdown",
      "source": [
        "Example 4 : Discrete Cosine Transform"
      ],
      "metadata": {
        "id": "gSaPy5PCsd5i"
      }
    },
    {
      "cell_type": "code",
      "source": [
        "from scipy.fftpack import dct\n",
        "print(dct(np.array([3., 4., 10., 5.])))"
      ],
      "metadata": {
        "colab": {
          "base_uri": "https://localhost:8080/"
        },
        "id": "jkKPADHoqiXX",
        "outputId": "f8243cc0-e21e-484e-b8bf-686f218622fe"
      },
      "execution_count": 19,
      "outputs": [
        {
          "output_type": "stream",
          "name": "stdout",
          "text": [
            "[44.         -8.28771932 -8.48528137  9.55582066]\n"
          ]
        }
      ]
    },
    {
      "cell_type": "code",
      "source": [
        ""
      ],
      "metadata": {
        "id": "_BM6T3F-s6vY"
      },
      "execution_count": null,
      "outputs": []
    }
  ]
}