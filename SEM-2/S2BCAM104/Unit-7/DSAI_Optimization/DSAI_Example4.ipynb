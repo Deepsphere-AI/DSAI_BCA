{
  "nbformat": 4,
  "nbformat_minor": 0,
  "metadata": {
    "colab": {
      "name": "DSAI_Example4.ipynb",
      "provenance": [],
      "toc_visible": true
    },
    "kernelspec": {
      "name": "python3",
      "display_name": "Python 3"
    },
    "language_info": {
      "name": "python"
    }
  },
  "cells": [
    {
      "cell_type": "markdown",
      "source": [
        "\n",
        "##### Copyright (c) DeepSphere.AI 2021\n",
        "##### All rights reserved\n",
        "\n",
        "###### We are sharing this partial code for learning and research, and the idea behind us sharing the source code is to stimulate ideas and thoughts for the learners .\n",
        "\n",
        "###### Author: # DeepSphere.AI | deepsphere.ai | dsschoolofai.com info@deepsphere.ai\n",
        "\n",
        "###### Release: Initial release\n",
        "\n"
      ],
      "metadata": {
        "id": "85KCWzLsUdiq"
      }
    },
    {
      "cell_type": "markdown",
      "source": [
        "## "
      ],
      "metadata": {
        "id": "YvQXfqiLTTAj"
      }
    },
    {
      "cell_type": "markdown",
      "source": [
        "## Solving a non linear least squares problem with bounds on the variable"
      ],
      "metadata": {
        "id": "eVooTmRYyd9i"
      }
    },
    {
      "cell_type": "code",
      "source": [
        "#Rosenbrock Function\n",
        "import numpy as np\n",
        "def fun_rosenbrock(x):\n",
        "   return np.array([10 * (x[1] - x[0]**2), (1 - x[0])])\n",
        "   \n",
        "from scipy.optimize import least_squares\n",
        "input = np.array([1, 2])\n",
        "res = least_squares(fun_rosenbrock, input)\n",
        "\n",
        "print (res)"
      ],
      "metadata": {
        "colab": {
          "base_uri": "https://localhost:8080/"
        },
        "id": "Yr9V-ZBJTXYj",
        "outputId": "6c4a06c6-24c5-4ec3-bd9e-896bdfc0297a"
      },
      "execution_count": 28,
      "outputs": [
        {
          "output_type": "stream",
          "name": "stdout",
          "text": [
            " active_mask: array([0., 0.])\n",
            "        cost: 2.465190328815662e-30\n",
            "         fun: array([-2.22044605e-15,  0.00000000e+00])\n",
            "        grad: array([ 4.44089213e-14, -2.22044605e-14])\n",
            "         jac: array([[-20.00000015,  10.        ],\n",
            "       [ -1.        ,   0.        ]])\n",
            "     message: '`gtol` termination condition is satisfied.'\n",
            "        nfev: 2\n",
            "        njev: 2\n",
            "  optimality: 4.4408921315878507e-14\n",
            "      status: 1\n",
            "     success: True\n",
            "           x: array([1., 1.])\n"
          ]
        }
      ]
    },
    {
      "cell_type": "code",
      "source": [
        ""
      ],
      "metadata": {
        "id": "nAQbTkwNyhoR"
      },
      "execution_count": null,
      "outputs": []
    }
  ]
}