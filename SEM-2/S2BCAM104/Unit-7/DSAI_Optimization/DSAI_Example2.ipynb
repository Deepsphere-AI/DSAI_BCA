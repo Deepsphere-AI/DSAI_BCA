{
  "nbformat": 4,
  "nbformat_minor": 0,
  "metadata": {
    "colab": {
      "name": "DSAI_Example2.ipynb",
      "provenance": [],
      "toc_visible": true
    },
    "kernelspec": {
      "name": "python3",
      "display_name": "Python 3"
    },
    "language_info": {
      "name": "python"
    }
  },
  "cells": [
    {
      "cell_type": "markdown",
      "source": [
        "\n",
        "##### Copyright (c) DeepSphere.AI 2021\n",
        "##### All rights reserved\n",
        "\n",
        "###### We are sharing this partial code for learning and research, and the idea behind us sharing the source code is to stimulate ideas and thoughts for the learners .\n",
        "\n",
        "###### Author: # DeepSphere.AI | deepsphere.ai | dsschoolofai.com info@deepsphere.ai\n",
        "\n",
        "###### Release: Initial release\n",
        "\n"
      ],
      "metadata": {
        "id": "85KCWzLsUdiq"
      }
    },
    {
      "cell_type": "markdown",
      "source": [
        "## Optimize using Nelder-Mead Method"
      ],
      "metadata": {
        "id": "YvQXfqiLTTAj"
      }
    },
    {
      "cell_type": "code",
      "execution_count": 24,
      "metadata": {
        "colab": {
          "base_uri": "https://localhost:8080/"
        },
        "id": "D8_tRrtIS8Ju",
        "outputId": "9ce77438-fbe9-423a-e9c4-15a97a7f0ae3"
      },
      "outputs": [
        {
          "output_type": "stream",
          "name": "stdout",
          "text": [
            " final_simplex: (array([[1.01472959, 1.029733  , 1.06043526, 1.1247583 ],\n",
            "       [1.0147342 , 1.02964735, 1.06034213, 1.12477493],\n",
            "       [1.01463461, 1.02969301, 1.06044227, 1.12474725],\n",
            "       [1.01467202, 1.02973057, 1.06042561, 1.12477111],\n",
            "       [1.01466515, 1.02968416, 1.06047265, 1.1247756 ]]), array([0.00476002, 0.00476042, 0.00476094, 0.00476123, 0.00476307]))\n",
            "           fun: 0.004760021610232844\n",
            "       message: 'Optimization terminated successfully.'\n",
            "          nfev: 192\n",
            "           nit: 113\n",
            "        status: 0\n",
            "       success: True\n",
            "             x: array([1.01472959, 1.029733  , 1.06043526, 1.1247583 ])\n",
            "[1.01472959 1.029733   1.06043526 1.1247583 ]\n"
          ]
        }
      ],
      "source": [
        "from scipy import optimize\n",
        "a = [2, 1.3, 3.9, 0.6]\n",
        "b = optimize.minimize(optimize.rosen, a, method='Nelder-Mead')\n",
        "print(b)\n",
        "print(b.x) #minima value"
      ]
    },
    {
      "cell_type": "code",
      "source": [
        ""
      ],
      "metadata": {
        "id": "Yr9V-ZBJTXYj"
      },
      "execution_count": null,
      "outputs": []
    }
  ]
}