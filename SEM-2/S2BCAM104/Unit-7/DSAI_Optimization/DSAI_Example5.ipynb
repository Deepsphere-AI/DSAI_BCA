{
  "nbformat": 4,
  "nbformat_minor": 0,
  "metadata": {
    "colab": {
      "name": "DSAI_Example5.ipynb",
      "provenance": [],
      "toc_visible": true
    },
    "kernelspec": {
      "name": "python3",
      "display_name": "Python 3"
    },
    "language_info": {
      "name": "python"
    }
  },
  "cells": [
    {
      "cell_type": "markdown",
      "source": [
        "\n",
        "##### Copyright (c) DeepSphere.AI 2021\n",
        "##### All rights reserved\n",
        "\n",
        "###### We are sharing this partial code for learning and research, and the idea behind us sharing the source code is to stimulate ideas and thoughts for the learners .\n",
        "\n",
        "###### Author: # DeepSphere.AI | deepsphere.ai | dsschoolofai.com info@deepsphere.ai\n",
        "\n",
        "###### Release: Initial release\n",
        "\n"
      ],
      "metadata": {
        "id": "85KCWzLsUdiq"
      }
    },
    {
      "cell_type": "markdown",
      "source": [
        "## "
      ],
      "metadata": {
        "id": "YvQXfqiLTTAj"
      }
    },
    {
      "cell_type": "markdown",
      "source": [
        "## Root Finding of the equation x2 + 2cos(x) = 0"
      ],
      "metadata": {
        "id": "eVooTmRYyd9i"
      }
    },
    {
      "cell_type": "code",
      "source": [
        "import numpy as np\n",
        "from scipy.optimize import root\n",
        "def func(x):\n",
        "   return x*2 + 2 * np.cos(x)\n",
        "sol = root(func, 0.5)\n",
        "print (sol)"
      ],
      "metadata": {
        "colab": {
          "base_uri": "https://localhost:8080/"
        },
        "id": "Yr9V-ZBJTXYj",
        "outputId": "2eaea908-b49c-46e9-96e6-d8cd9ede3d05"
      },
      "execution_count": 29,
      "outputs": [
        {
          "output_type": "stream",
          "name": "stdout",
          "text": [
            "    fjac: array([[-1.]])\n",
            "     fun: array([1.11022302e-15])\n",
            " message: 'The solution converged.'\n",
            "    nfev: 10\n",
            "     qtf: array([-1.46130419e-09])\n",
            "       r: array([-3.34722609])\n",
            "  status: 1\n",
            " success: True\n",
            "       x: array([-0.73908513])\n"
          ]
        }
      ]
    },
    {
      "cell_type": "code",
      "source": [
        ""
      ],
      "metadata": {
        "id": "nAQbTkwNyhoR"
      },
      "execution_count": null,
      "outputs": []
    }
  ]
}