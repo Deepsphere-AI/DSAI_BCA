{
  "nbformat": 4,
  "nbformat_minor": 0,
  "metadata": {
    "colab": {
      "name": "DSAI_Example4.ipynb",
      "provenance": [],
      "toc_visible": true
    },
    "kernelspec": {
      "name": "python3",
      "display_name": "Python 3"
    },
    "language_info": {
      "name": "python"
    }
  },
  "cells": [
    {
      "cell_type": "markdown",
      "source": [
        "\n",
        "##### Copyright (c) DeepSphere.AI 2021\n",
        "##### All rights reserved\n",
        "\n",
        "###### We are sharing this partial code for learning and research, and the idea behind us sharing the source code is to stimulate ideas and thoughts for the learners .\n",
        "\n",
        "###### Author: # DeepSphere.AI | deepsphere.ai | dsschoolofai.com info@deepsphere.ai\n",
        "\n",
        "###### Release: Initial release\n",
        "\n"
      ],
      "metadata": {
        "id": "85KCWzLsUdiq"
      }
    },
    {
      "cell_type": "markdown",
      "source": [
        "## Single Value Decomposition"
      ],
      "metadata": {
        "id": "YvQXfqiLTTAj"
      }
    },
    {
      "cell_type": "code",
      "execution_count": 6,
      "metadata": {
        "colab": {
          "base_uri": "https://localhost:8080/"
        },
        "id": "D8_tRrtIS8Ju",
        "outputId": "8b561d30-0f08-411e-aed1-ead29672e6aa"
      },
      "outputs": [
        {
          "output_type": "stream",
          "name": "stdout",
          "text": [
            "[[-0.29420341+0.92019862j  0.17757961+0.0455075j   0.12670466-0.13045818j]\n",
            " [-0.22030502-0.09038133j -0.0299543 -0.73538243j -0.17590162-0.60882753j]\n",
            " [ 0.08425546+0.05363572j -0.62359347-0.18931761j  0.75186485+0.00367318j]]\n",
            "[[-0.96457631+0.j          0.0081972 +0.26367659j]\n",
            " [-0.26380398+0.j         -0.02997234-0.96411053j]]\n",
            "[3.6104412  2.50109137]\n"
          ]
        }
      ],
      "source": [
        "#importing the scipy and numpy packages\n",
        "from scipy import linalg\n",
        "import numpy as np\n",
        "\n",
        "#Declaring the numpy array\n",
        "a = np.random.randn(3, 2) + 1.j*np.random.randn(3, 2)\n",
        "\n",
        "#Passing the values to the eig function\n",
        "U, s, Vh = linalg.svd(a)\n",
        "\n",
        "# printing the result\n",
        "print (U)\n",
        "print (Vh)\n",
        "print (s)"
      ]
    },
    {
      "cell_type": "code",
      "source": [
        ""
      ],
      "metadata": {
        "id": "Yr9V-ZBJTXYj"
      },
      "execution_count": null,
      "outputs": []
    }
  ]
}