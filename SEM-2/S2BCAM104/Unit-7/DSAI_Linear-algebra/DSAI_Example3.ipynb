{
  "nbformat": 4,
  "nbformat_minor": 0,
  "metadata": {
    "colab": {
      "name": "DSAI_Example3.ipynb",
      "provenance": [],
      "toc_visible": true
    },
    "kernelspec": {
      "name": "python3",
      "display_name": "Python 3"
    },
    "language_info": {
      "name": "python"
    }
  },
  "cells": [
    {
      "cell_type": "markdown",
      "source": [
        "\n",
        "##### Copyright (c) DeepSphere.AI 2021\n",
        "##### All rights reserved\n",
        "\n",
        "###### We are sharing this partial code for learning and research, and the idea behind us sharing the source code is to stimulate ideas and thoughts for the learners .\n",
        "\n",
        "###### Author: # DeepSphere.AI | deepsphere.ai | dsschoolofai.com info@deepsphere.ai\n",
        "\n",
        "###### Release: Initial release\n",
        "\n"
      ],
      "metadata": {
        "id": "85KCWzLsUdiq"
      }
    },
    {
      "cell_type": "markdown",
      "source": [
        "## Sparse EigenValues"
      ],
      "metadata": {
        "id": "YvQXfqiLTTAj"
      }
    },
    {
      "cell_type": "code",
      "execution_count": 3,
      "metadata": {
        "colab": {
          "base_uri": "https://localhost:8080/"
        },
        "id": "D8_tRrtIS8Ju",
        "outputId": "f87ec523-e996-4f07-fb82-ea09cfc6c6b9"
      },
      "outputs": [
        {
          "output_type": "stream",
          "name": "stdout",
          "text": [
            "Selected eigenvalues : [-2.53382695  1.66735639  3.69488657 12.17158399]\n",
            "Complex ndarray : [[ 0.69205614  0.5829305   0.25682823 -0.33954321]\n",
            " [-0.68277875  0.46838936  0.03700454 -0.5595134 ]\n",
            " [ 0.23275694 -0.29164622 -0.72710245 -0.57627139]\n",
            " [ 0.02637572 -0.59644441  0.63560361 -0.48945525]]\n"
          ]
        }
      ],
      "source": [
        "from scipy.linalg import eigh\n",
        "import numpy as np\n",
        "A = np.array([[1, 2, 3, 4], [4, 3, 2, 1], [1, 4, 6, 3], [2, 3, 2, 5]])\n",
        "a, b = eigh(A)\n",
        "print(\"Selected eigenvalues :\", a)\n",
        "print(\"Complex ndarray :\", b)"
      ]
    },
    {
      "cell_type": "code",
      "source": [
        ""
      ],
      "metadata": {
        "id": "Yr9V-ZBJTXYj"
      },
      "execution_count": null,
      "outputs": []
    }
  ]
}