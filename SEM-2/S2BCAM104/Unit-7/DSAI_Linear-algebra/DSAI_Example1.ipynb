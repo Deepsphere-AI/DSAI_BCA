{
  "nbformat": 4,
  "nbformat_minor": 0,
  "metadata": {
    "colab": {
      "name": "DSAI_Example1.ipynb",
      "provenance": [],
      "toc_visible": true
    },
    "kernelspec": {
      "name": "python3",
      "display_name": "Python 3"
    },
    "language_info": {
      "name": "python"
    }
  },
  "cells": [
    {
      "cell_type": "markdown",
      "source": [
        "\n",
        "##### Copyright (c) DeepSphere.AI 2021\n",
        "##### All rights reserved\n",
        "\n",
        "###### We are sharing this partial code for learning and research, and the idea behind us sharing the source code is to stimulate ideas and thoughts for the learners .\n",
        "\n",
        "###### Author: # DeepSphere.AI | deepsphere.ai | dsschoolofai.com info@deepsphere.ai\n",
        "\n",
        "###### Release: Initial release\n",
        "\n"
      ],
      "metadata": {
        "id": "85KCWzLsUdiq"
      }
    },
    {
      "cell_type": "markdown",
      "source": [
        "## Finding Inverse"
      ],
      "metadata": {
        "id": "YvQXfqiLTTAj"
      }
    },
    {
      "cell_type": "code",
      "execution_count": 4,
      "metadata": {
        "colab": {
          "base_uri": "https://localhost:8080/"
        },
        "id": "D8_tRrtIS8Ju",
        "outputId": "8711e5fa-d1cd-46ec-daa3-8357aa8cbd0c"
      },
      "outputs": [
        {
          "output_type": "stream",
          "name": "stdout",
          "text": [
            "[[1 2 3]\n",
            " [4 5 6]\n",
            " [2 3 8]]\n",
            "[[-1.83333333  0.58333333  0.25      ]\n",
            " [ 1.66666667 -0.16666667 -0.5       ]\n",
            " [-0.16666667 -0.08333333  0.25      ]]\n"
          ]
        }
      ],
      "source": [
        "import numpy as np\n",
        "from scipy import linalg\n",
        "A = np.array([[1,2,3],[4,5,6],[2,3,8]])\n",
        "print(A)\n",
        "print(linalg.inv(A))"
      ]
    },
    {
      "cell_type": "code",
      "source": [
        ""
      ],
      "metadata": {
        "id": "Yr9V-ZBJTXYj"
      },
      "execution_count": null,
      "outputs": []
    }
  ]
}