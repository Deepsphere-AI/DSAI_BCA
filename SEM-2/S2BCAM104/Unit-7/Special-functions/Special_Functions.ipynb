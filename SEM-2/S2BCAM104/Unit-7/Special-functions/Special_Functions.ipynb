{
  "nbformat": 4,
  "nbformat_minor": 0,
  "metadata": {
    "colab": {
      "name": "Special Functions.ipynb",
      "provenance": []
    },
    "kernelspec": {
      "name": "python3",
      "display_name": "Python 3"
    },
    "language_info": {
      "name": "python"
    }
  },
  "cells": [
    {
      "cell_type": "markdown",
      "source": [
        "Example 1:  Program to find the cube root"
      ],
      "metadata": {
        "id": "YMPjmBzML2-v"
      }
    },
    {
      "cell_type": "code",
      "execution_count": 2,
      "metadata": {
        "colab": {
          "base_uri": "https://localhost:8080/"
        },
        "id": "JSwGCYgFJhVe",
        "outputId": "0aef4c6b-46f0-484d-882b-08cd53d6333f"
      },
      "outputs": [
        {
          "output_type": "stream",
          "name": "stdout",
          "text": [
            "[2.0, 8.0, 9.524406311809196, 4.0]\n"
          ]
        }
      ],
      "source": [
        "from scipy.special import cbrt\n",
        "\n",
        "# cube root of elements in an array\n",
        "arr = [8, 512, 864, 64]\n",
        "arr = list(map(cbrt,arr))\n",
        "print(arr)\n"
      ]
    },
    {
      "cell_type": "markdown",
      "source": [
        "Example 2 : Program to find the powers of 10 for a range"
      ],
      "metadata": {
        "id": "pAPbi6UbMB1R"
      }
    },
    {
      "cell_type": "code",
      "source": [
        "from scipy.special import exp10\n",
        "\n",
        "# exponent raise to power 10\n",
        "# for a range\n",
        "for i in range(1,5):\n",
        "  print(exp10(i))\n"
      ],
      "metadata": {
        "colab": {
          "base_uri": "https://localhost:8080/"
        },
        "id": "by-lGkhQLMEe",
        "outputId": "42155a16-c292-40e1-8512-a392d608fce8"
      },
      "execution_count": 6,
      "outputs": [
        {
          "output_type": "stream",
          "name": "stdout",
          "text": [
            "10.0\n",
            "100.0\n",
            "1000.0\n",
            "10000.0\n"
          ]
        }
      ]
    },
    {
      "cell_type": "markdown",
      "source": [
        "Example 3 : Program to find combination of given numbers"
      ],
      "metadata": {
        "id": "ns1RSum7rLfs"
      }
    },
    {
      "cell_type": "code",
      "source": [
        "from scipy.special import comb\n",
        "print(comb(12, 3, exact = False,repetition=True))"
      ],
      "metadata": {
        "colab": {
          "base_uri": "https://localhost:8080/"
        },
        "id": "F8msm5D_nl0S",
        "outputId": "3c3d4bdd-f2e4-4c39-cb84-4107fa88d3ad"
      },
      "execution_count": 3,
      "outputs": [
        {
          "output_type": "stream",
          "name": "stdout",
          "text": [
            "364.0\n"
          ]
        }
      ]
    },
    {
      "cell_type": "markdown",
      "source": [
        "Example 4 : Program to find permutation of given numbers"
      ],
      "metadata": {
        "id": "-FgWTpCjMKh_"
      }
    },
    {
      "cell_type": "code",
      "source": [
        "# import permutations module\n",
        "from scipy.special import perm\n",
        "# permutations of 7\n",
        "print([perm(7, 1), perm(7, 2), perm(7, 3),\n",
        "\tperm(7, 4), perm(7, 5)])\n"
      ],
      "metadata": {
        "colab": {
          "base_uri": "https://localhost:8080/"
        },
        "id": "OPaf16vPNjBT",
        "outputId": "179d5e11-8738-4885-99f8-d4a021aa52b7"
      },
      "execution_count": 8,
      "outputs": [
        {
          "output_type": "stream",
          "name": "stdout",
          "text": [
            "[7.0, 42.0, 210.0, 840.0, 2520.0]\n"
          ]
        }
      ]
    },
    {
      "cell_type": "markdown",
      "source": [
        "Example 5 : Bessel Function of first and second kind"
      ],
      "metadata": {
        "id": "rxXkSs5r2fRB"
      }
    },
    {
      "cell_type": "code",
      "source": [
        "from scipy.special import jn, yn, jn_zeros, yn_zeros\n",
        "import numpy as np\n",
        "n = 0 # order\n",
        "x = 0.0\n",
        "# Bessel function of first kind\n",
        "print (\"J_%d(%f) = %f\" % (n, x, jn(n, x)))\n",
        "x = 1.0\n",
        "# Bessel function of second kind\n",
        "print (\"Y_%d(%f) = %f\" % (n, x, yn(n, x)))\n"
      ],
      "metadata": {
        "colab": {
          "base_uri": "https://localhost:8080/"
        },
        "id": "q5Ge8ohD0So-",
        "outputId": "0ec2fc2e-40e2-430f-9829-b3f501f25e6a"
      },
      "execution_count": 29,
      "outputs": [
        {
          "output_type": "stream",
          "name": "stdout",
          "text": [
            "J_0(0.000000) = 1.000000\n",
            "Y_0(1.000000) = 0.088257\n"
          ]
        }
      ]
    }
  ]
}