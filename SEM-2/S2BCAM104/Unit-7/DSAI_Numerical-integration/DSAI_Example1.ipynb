{
  "nbformat": 4,
  "nbformat_minor": 0,
  "metadata": {
    "colab": {
      "name": "DSAI_Example1.ipynb",
      "provenance": [],
      "toc_visible": true
    },
    "kernelspec": {
      "name": "python3",
      "display_name": "Python 3"
    },
    "language_info": {
      "name": "python"
    }
  },
  "cells": [
    {
      "cell_type": "markdown",
      "source": [
        "\n",
        "##### Copyright (c) DeepSphere.AI 2021\n",
        "##### All rights reserved\n",
        "\n",
        "###### We are sharing this partial code for learning and research, and the idea behind us sharing the source code is to stimulate ideas and thoughts for the learners .\n",
        "\n",
        "###### Author: # DeepSphere.AI | deepsphere.ai | dsschoolofai.com info@deepsphere.ai\n",
        "\n",
        "###### Release: Initial release\n",
        "\n"
      ],
      "metadata": {
        "id": "85KCWzLsUdiq"
      }
    },
    {
      "cell_type": "markdown",
      "source": [
        "## "
      ],
      "metadata": {
        "id": "YvQXfqiLTTAj"
      }
    },
    {
      "cell_type": "markdown",
      "source": [
        "## Single Integration of a function"
      ],
      "metadata": {
        "id": "eVooTmRYyd9i"
      }
    },
    {
      "cell_type": "code",
      "source": [
        "import scipy.integrate\n",
        "from numpy import exp\n",
        "#f is the function to be integrated\n",
        "f= lambda x:exp(-x**3)\n",
        "print(scipy.integrate.quad(f, 0, 1))"
      ],
      "metadata": {
        "colab": {
          "base_uri": "https://localhost:8080/"
        },
        "id": "Yr9V-ZBJTXYj",
        "outputId": "88661fb4-273e-4174-cd28-3ea7fd2435cb"
      },
      "execution_count": 31,
      "outputs": [
        {
          "output_type": "stream",
          "name": "stdout",
          "text": [
            "(0.8075111821396714, 8.965175070537417e-15)\n"
          ]
        }
      ]
    },
    {
      "cell_type": "code",
      "source": [
        ""
      ],
      "metadata": {
        "id": "nAQbTkwNyhoR"
      },
      "execution_count": null,
      "outputs": []
    }
  ]
}