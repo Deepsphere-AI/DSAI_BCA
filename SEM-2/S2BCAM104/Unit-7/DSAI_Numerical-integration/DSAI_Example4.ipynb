{
  "nbformat": 4,
  "nbformat_minor": 0,
  "metadata": {
    "colab": {
      "name": "DSAI_Example4.ipynb",
      "provenance": [],
      "toc_visible": true
    },
    "kernelspec": {
      "name": "python3",
      "display_name": "Python 3"
    },
    "language_info": {
      "name": "python"
    }
  },
  "cells": [
    {
      "cell_type": "markdown",
      "source": [
        "\n",
        "##### Copyright (c) DeepSphere.AI 2021\n",
        "##### All rights reserved\n",
        "\n",
        "###### We are sharing this partial code for learning and research, and the idea behind us sharing the source code is to stimulate ideas and thoughts for the learners .\n",
        "\n",
        "###### Author: # DeepSphere.AI | deepsphere.ai | dsschoolofai.com info@deepsphere.ai\n",
        "\n",
        "###### Release: Initial release\n",
        "\n"
      ],
      "metadata": {
        "id": "85KCWzLsUdiq"
      }
    },
    {
      "cell_type": "markdown",
      "source": [
        "## "
      ],
      "metadata": {
        "id": "YvQXfqiLTTAj"
      }
    },
    {
      "cell_type": "markdown",
      "source": [
        "## Integrating Differential Equations\n",
        "\n",
        "Solving the ODE : dy/dt = -2 y between t = 0...4, with the initial condition y(t=0) = 1\n"
      ],
      "metadata": {
        "id": "eVooTmRYyd9i"
      }
    },
    {
      "cell_type": "code",
      "source": [
        "def calc_derivative(ypos, time):\n",
        "    return -2 * ypos"
      ],
      "metadata": {
        "id": "Yr9V-ZBJTXYj"
      },
      "execution_count": 34,
      "outputs": []
    },
    {
      "cell_type": "code",
      "source": [
        "from scipy.integrate import odeint\n",
        "import numpy as np\n",
        "time_vec = np.linspace(0, 4, 10)\n",
        "y = odeint(calc_derivative, y0=1, t=time_vec)\n",
        "print(y)"
      ],
      "metadata": {
        "colab": {
          "base_uri": "https://localhost:8080/"
        },
        "id": "nAQbTkwNyhoR",
        "outputId": "63dfbc68-f2ff-4d0b-ac41-4f699c4aa98e"
      },
      "execution_count": 35,
      "outputs": [
        {
          "output_type": "stream",
          "name": "stdout",
          "text": [
            "[[1.00000000e+00]\n",
            " [4.11112313e-01]\n",
            " [1.69013313e-01]\n",
            " [6.94834400e-02]\n",
            " [2.85654998e-02]\n",
            " [1.17436289e-02]\n",
            " [4.82795070e-03]\n",
            " [1.98483034e-03]\n",
            " [8.15986861e-04]\n",
            " [3.35461690e-04]]\n"
          ]
        }
      ]
    },
    {
      "cell_type": "code",
      "source": [
        ""
      ],
      "metadata": {
        "id": "-AfDJUvw0Wnn"
      },
      "execution_count": null,
      "outputs": []
    }
  ]
}