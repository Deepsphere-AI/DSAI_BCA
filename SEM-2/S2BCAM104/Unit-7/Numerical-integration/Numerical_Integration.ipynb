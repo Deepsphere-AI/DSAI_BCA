{
  "nbformat": 4,
  "nbformat_minor": 0,
  "metadata": {
    "colab": {
      "name": "Numerical_Integration.ipynb",
      "provenance": []
    },
    "kernelspec": {
      "name": "python3",
      "display_name": "Python 3"
    },
    "language_info": {
      "name": "python"
    }
  },
  "cells": [
    {
      "cell_type": "markdown",
      "source": [
        "Example 1 : Single Integration of a function"
      ],
      "metadata": {
        "id": "A3e0nTbbnRcM"
      }
    },
    {
      "cell_type": "code",
      "execution_count": 4,
      "metadata": {
        "colab": {
          "base_uri": "https://localhost:8080/"
        },
        "id": "Y32dbU5_8C-Q",
        "outputId": "cd2b7b5e-64c4-4d52-ce20-f0823253c429"
      },
      "outputs": [
        {
          "output_type": "stream",
          "name": "stdout",
          "text": [
            "(0.8075111821396714, 8.965175070537417e-15)\n"
          ]
        }
      ],
      "source": [
        "import scipy.integrate\n",
        "from numpy import exp\n",
        "#f is the function to be integrated\n",
        "f= lambda x:exp(-x**3)\n",
        "print(scipy.integrate.quad(f, 0, 1))"
      ]
    },
    {
      "cell_type": "markdown",
      "source": [
        "Example 2 : Double Integration"
      ],
      "metadata": {
        "id": "2wkI6PkmnpIi"
      }
    },
    {
      "cell_type": "code",
      "source": [
        "import scipy.integrate\n",
        "from numpy import exp\n",
        "from math import sqrt\n",
        "f = lambda x, y : 16*x*y\n",
        "g = lambda x : 0\n",
        "h = lambda y : sqrt(1-4*y**2)\n",
        "print(scipy.integrate.dblquad(f, 0, 0.5, g, h))\n"
      ],
      "metadata": {
        "colab": {
          "base_uri": "https://localhost:8080/"
        },
        "id": "Y2rqDY6inWML",
        "outputId": "39f2c586-34ed-4408-f686-7382034188a6"
      },
      "execution_count": 7,
      "outputs": [
        {
          "output_type": "stream",
          "name": "stdout",
          "text": [
            "(0.5, 1.7092350012594845e-14)\n"
          ]
        }
      ]
    },
    {
      "cell_type": "markdown",
      "source": [
        "Example 3 : Integrating a bessel function"
      ],
      "metadata": {
        "id": "LZQ7TQNyoBqk"
      }
    },
    {
      "cell_type": "code",
      "source": [
        "import scipy.integrate as integrate\n",
        "import scipy.special as special\n",
        "result = integrate.quad(lambda x: special.jv(3.5,x), 0, 5.5)\n",
        "result"
      ],
      "metadata": {
        "colab": {
          "base_uri": "https://localhost:8080/"
        },
        "id": "tE3dO789nkpi",
        "outputId": "be4b1d9b-b688-421f-a342-0e887aee0cd5"
      },
      "execution_count": 9,
      "outputs": [
        {
          "output_type": "execute_result",
          "data": {
            "text/plain": [
              "(1.0555100310897922, 1.6732209528176878e-09)"
            ]
          },
          "metadata": {},
          "execution_count": 9
        }
      ]
    },
    {
      "cell_type": "markdown",
      "source": [
        "Example 4 : Integrating Differential Equations\n",
        "\n",
        "Solving the ODE : dy/dt = -2 y between t = 0...4, with the initial condition y(t=0) = 1"
      ],
      "metadata": {
        "id": "ZjBxNffxrJpG"
      }
    },
    {
      "cell_type": "code",
      "source": [
        "def calc_derivative(ypos, time):\n",
        "    return -2 * ypos"
      ],
      "metadata": {
        "id": "wzABcgvpn-x_"
      },
      "execution_count": 10,
      "outputs": []
    },
    {
      "cell_type": "code",
      "source": [
        "from scipy.integrate import odeint\n",
        "import numpy as np\n",
        "time_vec = np.linspace(0, 4, 10)\n",
        "y = odeint(calc_derivative, y0=1, t=time_vec)\n",
        "print(y)"
      ],
      "metadata": {
        "colab": {
          "base_uri": "https://localhost:8080/"
        },
        "id": "5eqEr7m8rim2",
        "outputId": "04d59576-3f9c-4b29-c84c-310bddc2894f"
      },
      "execution_count": 14,
      "outputs": [
        {
          "output_type": "stream",
          "name": "stdout",
          "text": [
            "[[1.00000000e+00]\n",
            " [4.11112313e-01]\n",
            " [1.69013313e-01]\n",
            " [6.94834400e-02]\n",
            " [2.85654998e-02]\n",
            " [1.17436289e-02]\n",
            " [4.82795070e-03]\n",
            " [1.98483034e-03]\n",
            " [8.15986861e-04]\n",
            " [3.35461690e-04]]\n"
          ]
        }
      ]
    },
    {
      "cell_type": "code",
      "source": [
        ""
      ],
      "metadata": {
        "id": "LDf18Ok7txiw"
      },
      "execution_count": null,
      "outputs": []
    }
  ]
}