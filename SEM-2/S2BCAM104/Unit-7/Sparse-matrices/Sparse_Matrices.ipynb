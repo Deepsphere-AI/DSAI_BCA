{
  "nbformat": 4,
  "nbformat_minor": 0,
  "metadata": {
    "colab": {
      "name": "Untitled2.ipynb",
      "provenance": []
    },
    "kernelspec": {
      "name": "python3",
      "display_name": "Python 3"
    },
    "language_info": {
      "name": "python"
    }
  },
  "cells": [
    {
      "cell_type": "markdown",
      "source": [
        "Example 1 :\n"
      ],
      "metadata": {
        "id": "6VDxPZiiUPo7"
      }
    },
    {
      "cell_type": "code",
      "execution_count": 3,
      "metadata": {
        "colab": {
          "base_uri": "https://localhost:8080/"
        },
        "id": "rj3Eu8hOSScB",
        "outputId": "e5cf3111-5cdd-4ff0-d7fd-ca4935d80493"
      },
      "outputs": [
        {
          "output_type": "stream",
          "name": "stdout",
          "text": [
            "[2 1 2 1]\n"
          ]
        }
      ],
      "source": [
        "import numpy as np\n",
        "G_dense = np.array([ [0, 2, 1],\n",
        "                     [2, 0, 0],\n",
        "                     [1, 0, 0] ])\n",
        "                     \n",
        "G_masked = np.ma.masked_values(G_dense, 0)\n",
        "from scipy.sparse import csr_matrix\n",
        "\n",
        "G_sparse = csr_matrix(G_dense)\n",
        "print(G_sparse.data)"
      ]
    },
    {
      "cell_type": "code",
      "source": [
        ""
      ],
      "metadata": {
        "id": "LxQWuWhJURax"
      },
      "execution_count": null,
      "outputs": []
    }
  ]
}