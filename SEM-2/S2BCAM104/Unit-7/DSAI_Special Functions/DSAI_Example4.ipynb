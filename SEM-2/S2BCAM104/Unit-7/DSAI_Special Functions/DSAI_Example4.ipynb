{
  "nbformat": 4,
  "nbformat_minor": 0,
  "metadata": {
    "colab": {
      "name": "DSAI_Example4.ipynb",
      "provenance": [],
      "toc_visible": true
    },
    "kernelspec": {
      "name": "python3",
      "display_name": "Python 3"
    },
    "language_info": {
      "name": "python"
    }
  },
  "cells": [
    {
      "cell_type": "markdown",
      "source": [
        "\n",
        "##### Copyright (c) DeepSphere.AI 2021\n",
        "##### All rights reserved\n",
        "\n",
        "###### We are sharing this partial code for learning and research, and the idea behind us sharing the source code is to stimulate ideas and thoughts for the learners .\n",
        "\n",
        "###### Author: # DeepSphere.AI | deepsphere.ai | dsschoolofai.com info@deepsphere.ai\n",
        "\n",
        "###### Release: Initial release\n",
        "\n"
      ],
      "metadata": {
        "id": "85KCWzLsUdiq"
      }
    },
    {
      "cell_type": "markdown",
      "source": [
        "## "
      ],
      "metadata": {
        "id": "YvQXfqiLTTAj"
      }
    },
    {
      "cell_type": "markdown",
      "source": [
        "Program to find permutation of given numbers\n"
      ],
      "metadata": {
        "id": "eVooTmRYyd9i"
      }
    },
    {
      "cell_type": "code",
      "source": [
        "# import permutations module\n",
        "from scipy.special import perm\n",
        "# permutations of 7\n",
        "print([perm(7, 1), perm(7, 2), perm(7, 3),\n",
        "\tperm(7, 4), perm(7, 5)])\n"
      ],
      "metadata": {
        "colab": {
          "base_uri": "https://localhost:8080/"
        },
        "id": "nAQbTkwNyhoR",
        "outputId": "cabd54c0-fb97-4d48-a35d-2f82070e5f7b"
      },
      "execution_count": 41,
      "outputs": [
        {
          "output_type": "stream",
          "name": "stdout",
          "text": [
            "[7.0, 42.0, 210.0, 840.0, 2520.0]\n"
          ]
        }
      ]
    },
    {
      "cell_type": "code",
      "source": [
        ""
      ],
      "metadata": {
        "id": "-AfDJUvw0Wnn"
      },
      "execution_count": null,
      "outputs": []
    }
  ]
}