{
  "nbformat": 4,
  "nbformat_minor": 0,
  "metadata": {
    "colab": {
      "name": "Linear_Algebra.ipynb",
      "provenance": []
    },
    "kernelspec": {
      "name": "python3",
      "display_name": "Python 3"
    },
    "language_info": {
      "name": "python"
    }
  },
  "cells": [
    {
      "cell_type": "markdown",
      "source": [
        "Example 1 : Finding Inverse"
      ],
      "metadata": {
        "id": "-JmG2GwcBawK"
      }
    },
    {
      "cell_type": "code",
      "execution_count": 2,
      "metadata": {
        "colab": {
          "base_uri": "https://localhost:8080/"
        },
        "id": "2X9d9HyyBMp9",
        "outputId": "8924ce86-5841-45ab-df92-fe1f1a5169d2"
      },
      "outputs": [
        {
          "output_type": "stream",
          "name": "stdout",
          "text": [
            "[[1 2 3]\n",
            " [4 5 6]\n",
            " [2 3 8]]\n",
            "[[-1.83333333  0.58333333  0.25      ]\n",
            " [ 1.66666667 -0.16666667 -0.5       ]\n",
            " [-0.16666667 -0.08333333  0.25      ]]\n"
          ]
        }
      ],
      "source": [
        "import numpy as np\n",
        "from scipy import linalg\n",
        "A = np.array([[1,2,3],[4,5,6],[2,3,8]])\n",
        "print(A)\n",
        "print(linalg.inv(A))\n"
      ]
    },
    {
      "cell_type": "markdown",
      "source": [
        "Example 2 : Finding Determinants"
      ],
      "metadata": {
        "id": "Qj5W2hnHCAJG"
      }
    },
    {
      "cell_type": "code",
      "source": [
        "import numpy as np\n",
        "from scipy import linalg\n",
        "A = np.array([[1,2], [3,4]])\n",
        "B = linalg.det(A)\n",
        "print(B)"
      ],
      "metadata": {
        "colab": {
          "base_uri": "https://localhost:8080/"
        },
        "id": "6W81ZJOQBtWg",
        "outputId": "1e6c47d6-7b79-4047-a7bc-212d3f6b87e5"
      },
      "execution_count": 3,
      "outputs": [
        {
          "output_type": "stream",
          "name": "stdout",
          "text": [
            "-2.0\n"
          ]
        }
      ]
    },
    {
      "cell_type": "markdown",
      "source": [
        "Example 3 : Sparse EigenValues"
      ],
      "metadata": {
        "id": "97q-fF-vFClR"
      }
    },
    {
      "cell_type": "code",
      "source": [
        "from scipy.linalg import eigh\n",
        "import numpy as np\n",
        "A = np.array([[1, 2, 3, 4], [4, 3, 2, 1], [1, 4, 6, 3], [2, 3, 2, 5]])\n",
        "a, b = eigh(A)\n",
        "print(\"Selected eigenvalues :\", a)\n",
        "print(\"Complex ndarray :\", b)"
      ],
      "metadata": {
        "colab": {
          "base_uri": "https://localhost:8080/"
        },
        "id": "J3rlSmi_C7Xa",
        "outputId": "39912a1d-3f36-4f97-affc-61120f43a461"
      },
      "execution_count": 5,
      "outputs": [
        {
          "output_type": "stream",
          "name": "stdout",
          "text": [
            "Selected eigenvalues : [-2.53382695  1.66735639  3.69488657 12.17158399]\n",
            "Complex ndarray : [[ 0.69205614  0.5829305   0.25682823 -0.33954321]\n",
            " [-0.68277875  0.46838936  0.03700454 -0.5595134 ]\n",
            " [ 0.23275694 -0.29164622 -0.72710245 -0.57627139]\n",
            " [ 0.02637572 -0.59644441  0.63560361 -0.48945525]]\n"
          ]
        }
      ]
    },
    {
      "cell_type": "markdown",
      "source": [
        "Example 4: Single Value Decomposition"
      ],
      "metadata": {
        "id": "ebjeOBR1FVnU"
      }
    },
    {
      "cell_type": "code",
      "source": [
        "#importing the scipy and numpy packages\n",
        "from scipy import linalg\n",
        "import numpy as np\n",
        "\n",
        "#Declaring the numpy array\n",
        "a = np.random.randn(3, 2) + 1.j*np.random.randn(3, 2)\n",
        "\n",
        "#Passing the values to the eig function\n",
        "U, s, Vh = linalg.svd(a)\n",
        "\n",
        "# printing the result\n",
        "print (U)\n",
        "print (Vh)\n",
        "print (s)"
      ],
      "metadata": {
        "colab": {
          "base_uri": "https://localhost:8080/"
        },
        "id": "jzusCeetE-k9",
        "outputId": "6844c2b8-9d80-4a19-fd32-20b1f29af792"
      },
      "execution_count": 8,
      "outputs": [
        {
          "output_type": "stream",
          "name": "stdout",
          "text": [
            "[[ 0.13738879-0.15696908j  0.55004187+0.7346568j  -0.32590374-0.08947127j]\n",
            " [ 0.83592645-0.06043994j  0.02712865+0.01186676j  0.33643876+0.42837619j]\n",
            " [-0.3207546 +0.38881293j  0.28183584+0.27825367j  0.76562266+0.05391092j]]\n",
            "[[ 0.43523679+0.j          0.8137356 -0.3852315j ]\n",
            " [-0.90031602+0.j          0.39338151-0.18623119j]]\n",
            "[2.50436725 1.5700067 ]\n"
          ]
        }
      ]
    },
    {
      "cell_type": "code",
      "source": [
        ""
      ],
      "metadata": {
        "id": "PMiVzIHRF-hx"
      },
      "execution_count": null,
      "outputs": []
    }
  ]
}