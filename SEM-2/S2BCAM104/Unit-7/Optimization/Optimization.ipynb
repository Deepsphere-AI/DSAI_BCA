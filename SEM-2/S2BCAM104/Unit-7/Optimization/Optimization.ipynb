{
  "nbformat": 4,
  "nbformat_minor": 0,
  "metadata": {
    "colab": {
      "name": "Optimization.ipynb",
      "provenance": []
    },
    "kernelspec": {
      "name": "python3",
      "display_name": "Python 3"
    },
    "language_info": {
      "name": "python"
    }
  },
  "cells": [
    {
      "cell_type": "markdown",
      "source": [
        "Example 1 : Minimizing a simple scalar function "
      ],
      "metadata": {
        "id": "pBwfx_wjfhT1"
      }
    },
    {
      "cell_type": "code",
      "execution_count": 15,
      "metadata": {
        "id": "I-Vt6oa8fYBa",
        "colab": {
          "base_uri": "https://localhost:8080/"
        },
        "outputId": "649dab12-cd68-4f94-9e2b-23a6f2146e77"
      },
      "outputs": [
        {
          "output_type": "stream",
          "name": "stdout",
          "text": [
            "     fun: -0.6743051024666711\n",
            "    nfev: 15\n",
            "     nit: 10\n",
            " success: True\n",
            "       x: -1.2214484245210282\n"
          ]
        }
      ],
      "source": [
        "import numpy as np\n",
        "from scipy import optimize\n",
        "\n",
        "def scalar1(x):\n",
        "    return (np.sin(x)*np.exp(-0.1*(x-0.6)**2))\n",
        "\n",
        "x = np.arange(-9,10,0.03)\n",
        "result = optimize.minimize_scalar(scalar1)\n",
        "print(result)"
      ]
    },
    {
      "cell_type": "markdown",
      "source": [
        "Example 2 : Nelder Mead Method"
      ],
      "metadata": {
        "id": "67f-SQObe2Cl"
      }
    },
    {
      "cell_type": "code",
      "source": [
        "from scipy import optimize\n",
        "a = [2, 1.3, 3.9, 0.6]\n",
        "b = optimize.minimize(optimize.rosen, a, method='Nelder-Mead')\n",
        "print(b)\n",
        "print(b.x) #minima value"
      ],
      "metadata": {
        "colab": {
          "base_uri": "https://localhost:8080/"
        },
        "id": "AkTZWqERe2cE",
        "outputId": "1c19ce14-9ed8-418c-c6e8-724770c586ab"
      },
      "execution_count": 16,
      "outputs": [
        {
          "output_type": "stream",
          "name": "stdout",
          "text": [
            " final_simplex: (array([[1.01472959, 1.029733  , 1.06043526, 1.1247583 ],\n",
            "       [1.0147342 , 1.02964735, 1.06034213, 1.12477493],\n",
            "       [1.01463461, 1.02969301, 1.06044227, 1.12474725],\n",
            "       [1.01467202, 1.02973057, 1.06042561, 1.12477111],\n",
            "       [1.01466515, 1.02968416, 1.06047265, 1.1247756 ]]), array([0.00476002, 0.00476042, 0.00476094, 0.00476123, 0.00476307]))\n",
            "           fun: 0.004760021610232844\n",
            "       message: 'Optimization terminated successfully.'\n",
            "          nfev: 192\n",
            "           nit: 113\n",
            "        status: 0\n",
            "       success: True\n",
            "             x: array([1.01472959, 1.029733  , 1.06043526, 1.1247583 ])\n",
            "[1.01472959 1.029733   1.06043526 1.1247583 ]\n"
          ]
        }
      ]
    },
    {
      "cell_type": "markdown",
      "source": [
        "Example 3 : Global Optimization of eggholder function\n",
        "\n",
        "![image.png](data:image/png;base64,iVBORw0KGgoAAAANSUhEUgAAAjIAAABECAIAAAAUSkj7AAAeXElEQVR4nO2df3BT55nvv2TsIDJXgKF2uXZZQ4DUsPEB7MvYocHbY9isnWQ53NQkHRDdeJPIDNPB4iaxq2xwb9XeuKKZYrFZRpBtxS6WJ63dBNESu53YSgRN5AG54ZgbOSAXeYlcKi1SkTaRiHTn3D/kX5KOdI5+2JLh/fxlH50fz3ne57zP++N5n3cBx3EgEAgEAiE3uC/bAhAIBAKBMA1xSwQCgUDIIYhbIhAIBEIOQdwSgUAgEHII4pYIBAKBkEPkZVsAwj1FYPDCle4zb2VbjLuBpUuXvvrqq9mWgkDIPAtIgDghBVzj45KiYmmSrZrQ6Kn8tbaBS/9z8exIdU9x//3c8sXFy0qLJdmWhEDILKS3REiaka6m9XvNZu/lKmlyF3rGroJ56JHKSlKTZoDQyK78EoPS4H9tJ9En4W6CzC0RksM1eGz93pOq/t5kfRKAG5fOUbUUqUMzQ17ZW1Y92pkXTg1lWxQCIZMQt0RIBtf5Z6qboexV1hYnf7HvYh/bULU681Ldq0jK9lj18s7GylPDvmzLQiBkDOKWCOLxnHimxgg521aXyuBvyDlkxMaVyXeyCPEp2/MjDY1Gqn00lG1RCIQMQdwSQSxjPar9Rih7v1+e2jCcZ8wM2UNFZDozsxTKj+uA9hd/RobyCHcJxC0RxBEYfnV3Byj1oboUhu8AwHfjEkttKcmbuFvTxkMjpIGfLHx6k5R9u1sOw/6XBlxZkopAyCjELRFEMfL2G52A+uQLhanewX6xDw1TcRLBa+zAbX+GhLuH4NWbZNcr3YDx0NGBrMhEIGQW4pYIIgiNnth7ErTmhaqCVG8R+PSCUbFl5YwjyzMg2L0Ij97ySp/sloNtP9Q3TnqghHkPcUsEYVymrg5A2dKQslMC3NZObFy1LHNCEWYiefK7OoA98rOPsi0JgZAuxC0RBPGdO9YGMA3fSHFWCQB8N3pAU6vImqXZQlL+mIqCsa2TzNgR5jvELRGEGP/9UQMge3pDGqHdAfvHLOpWE680ixQ/tpcBTv6O9WRbkiwR8Iy7yPqtnCUwPuYS2WQibokgwOj777CAnKlKx6c4Pr0ABZXGGOBsEnINDfT1nR8OAPCMDgycHx6dlzFtG3bUAjjz3tVsC5IFQmMDtYuW1b9tz7YghDiEHD9YVZT/ytmAiHOJWyIkJjDYexLA324uSecuY0Mss3FVhkTKKJ7BXflF5/7j5m9rqMcPHar95ovv6WqotUWnRuZfu1u67lEGMOo/mJdONR18Q42rthvl3YNN5dkWhRCHvDUn3Ca6nan64YBgn4m4JUJCQvYPOgEoHi5Np7PkudLObqXScmyzg+/Ut6o39DsPP/tsm0ll7Oig39AdalQCuD8/P9uyJY90dS0NsH3D95ZfCnQdqOyEwvYvDWSQOKcp2PYri5Zt2/7y2dHEJ5Il94REBMaGTgKQbVmVjqUEPjsD6gercy/tkO+TM9DoagsBXP3ICMh3P1JQmNfmdisLCqarONe4p6C4YD58KgVVdQyMhksjrtrClBeYzTM8g8f2dkJjbluTagmFfK7j+rMB762MykWIYMOGDU8++WRBRVO/6vh25sVve88kyPU8H741Qvb487UrAJhHy9Jph4Ycw0Y80ZmDM0vSqjMDVQAA16DeCPmBtXkAJBM+KTTe98tfm3r3t3eq3VxLDoofy8r/UQkYPvzDDWy7R9yS6015KxhdY+or6jw/XVw0/M/n9pSnEWhKEKK4eEK9tS/rZG2VSt3gwMGqeCcTt0RIxE32EwC1m9JK++0ZuwLm4YglSwHbZdgcC9KSLZN4/niGhfzw5jwACHlcvoLCAuRJ13/jqXUrne2sJFe+EyG9FZWuB2AYYH0HK3Kvc5p5PIO6Vhbazm+l/LK+odOtkLHPP55ipkdCskgqWnQyqrF9qPFMPBslc0uEBHgG+wwAVbxiUTp3uXHpHFUb2d+SrC3HkpJsb4wc8o0NDg77ANeV3xmBv91SAiA02rlsxy8DACAtLS0sWroEbJblnEZIb3klDzIADJcdYgKe5j0+Q3sraM3T5al7pa7GZlrbQnzSXFL+RCMFw2njWLwTRLulUMAXiA2gCA0c2bXv1Ijw5b7BfbU/HM2ZTyU0PrBrQdNwzsgjTFYU6Ls+YASw+sFl6Xy1vot6nm2W7kP2R5lY3c7q6mZ7wPN2TRvAPPhVCeD66dpG1cmnc7aaEtCbZHklBeD6F8E5kieLhMaMjQYoDjCpZ8Qa7trP0q/vKQ//07SxKTcWI4uuV3OGoWP7XuELZBg51dTUFfMihZsP0OjoMMRbYSfKLflGujbmL1q8KH/Bob6ZFePwiYbtffXHni0TvoW0quU7V9cuOpITIUK+oYaS7bWWH+dGEylwvqtrZFKtI30950c9oSiQugID48MD51P1v/n5UgCQphWVFnIMsdiSk9ssLV9VCxipx785pDHoldcrq3bt2lg0qrMcTn2iIhVCY+e7+qY/6bg2IIplK1cDMIzMk+5SOvZpM3YD1N9tTTnCM/DW4f2U5vXJoaTgNdacC+mDk6hXZx+RxlnReOgGs/bIYHT99IXXbP7sdsxdC7Z+RwZj8/l4KRw5YewKQK7v1zEA1O7Jo0F7N0CZ3ImujMSrpUFrWfEXzA7BbhmgMmVbjAncZjVAmb3h/7xamqeMaLV56tckFejV0QCgZb0pyOa3dQMAo03l4imc/YDM6o+6tYUGbU7rvpkh6Pc6nWE5/E6Hw+0NRp3gtWgAzWxK6tRQoNSWqQcmsgFhvXm1DABoLEl8mdkjHfv062UAlPZUn+236SNqsNywyeTr1VklCeP0s1qAYSO/dIuGnnH5NH5WB0DZy196wlO5gRFjB6Cv2ly1TN/94lQz0tfZvJtSm7cl0ayU/sNx3f71zYNPD8xtYzSCwEjn7k7K7N02S/cfPvGK5W+Uz5aJ6xyERg5WtwLMRG8k5BgxgpbJN37lAQDAIlxv7zDg+Z0bAKSkQGnl8wrcwtZVqXRWgrczEDLru3EJ1JaSueyY+oYOtY2oju4R8855EmnhhGySwmKeWKxFDwBAEt3FZJ4OYLTrfzWzYA5M/i9gA4JIt9QyMBgCn+fEaJQQadhnyHGxE5BXfDXFRwd+87/3QmVKpgabA1KoV5O6/Swap6T8H3TMftmxwcstcUPsppCsq5QBZvYm6kp5fhZ0lza9HGAsUa1dRy9A9TuFvW0kbjUg01uTvSyD9Cpmt6tkUTMqs9imTr+SBk0BjCXcRnP3M4x+ZnO9XwEmons0pwr0sloAoLXpNN1YLQ2VOfrorLZMvWaaUmeiuenv1ShlDA3QMrmy1+YXviLZpzt7aVAUwGgmW5SJbUCE3litDACt4Wmi3lU4eiP0liRBezeAiBosF3pLKdaroplV45wY+5FZZ5wRr7fEcV4dA9D8IzEJe0sBz7jP+3+vmAEq6Ha5FkkLJ9cYjn34DqgDWyYnX31jQxdHP8/PB4JYWrapvFgaGB/+cOQv+fn4/HNU7thWOPGcgnot3fqv5jf3pLUOJnVCo+90QMNuijnuGjJZnPkl39xWLvGMDvxhvLC0rHzN7M7J+4aPbTd/x34cq9b/+8Qh6eYf/zg0VSTjfa9s71C7uZn5VBIq0Dd+3vj+qBt/RVUs/YtrxdZty/zjDrf39m2sqyiTIjA+6vB+cTt/BbWmwHP+PUvw/oLSzZVrhNaJMrs2pdF0C3x6wajYu1L4RMA1MmSx/6WE2lpeLBkdPD+OpWUbywtTMpTFyIh9SeoOvlZ3EKdn6+m+Ezvqn2Ht0sOr1FPHhG1ApAyzQlpllFH79N0cY4G9MaE04gi917Ebit7axJ/4nFcLUfXqFNn4NFIxzoKNO2i0mm3Hy0QOFxnHnCFIY0o4UciD71qvrGgV084CnfL6Ha8ark39Yuw8ST23ZfLJvt92vLR9e01NTU3N9hrqJ58AsPdQ4SP1rW/fnDGLuGrLLhj7r2VpOjZgO38SdFXUiEF2sqKNtVHNhl88W4I708fyCsrKplz9oKy+vdcZvYozngJDY2c3Li55+0//japceUm1vnL7d28E4bvas3bt+srK9bohH/DnzhfWrqcqn3rtp4cqizqv3rzyC/naZfk9wq+ZTsCDe0jcNkuDx3YVfe+c++ovqJLHX2mqffGt3ppqqujxU/MvM51oxs6+tL+6t6n8qz7vjK39RNhAtkinjDJvn/kAIMlPaUXZ+Hv1HTC8vCPROVmoFqLq1Qmy8mmkaJyS1bsonDE7xDziDgB88p+8MSZCHTmrDJDpbVH9Ly0NKrr7bFdRAABa7Qh6DQoAcp5pV2c/4vSUDXLhN0lt6n5ablYb83Svjoay38lxnNukAqAyuZ39SgB6kYM2kVjUjNoiLKRZTYWDF8IixV5hVlGUOmbsi4urQFZDQ947+Z9DAdrk5biJecipCXCvLmI+3CYH+J8SPpvVQtw4SdDtcPJqy2umQEePAHPRAyZ+qxZQOjmO45xqCoDKzTmUAOTdqZSB38zQsxqkkImne83UxNi4V0vzj7nx2IDoQbyUR7fikWYZZdw+vREX8hF0mkw23l/6lYDcEB3cEqHbDFcL4uCpV7PzaaRmnBzHcZxJOTNEIsEgHmfRMNPzF5EItDUCI0OdgKasKPYnqnhJ5IHSw++bLMtqDMbWkvxWgOl3/EtFbDNPupTGrS/5pmMfe93p+FHClnkQkiKevqFvfOTarWDcC4PB/BXryorDF94B1n1l5tpQ4axoofFRmxeLV60p5un9hjyj1j9PPTt/Uf4f/2Tou/DxM0uK/cHJlSOLlpeVRnTLQ6Nd1a0NzgQjM74hZRt7yLaR56c4Csz/SglO1h/6a/1Tj1aUbSj5tv75cPFELV+5A4DWNk4UTNEjNK5JMpCT9N3vlYw0eVtiFm0H7IP82ywFbJ/CZg8hPDd6+Wyv2qwrBOAZ6WMh1+8pQHGb161cNFEGAdeY/VZoecmaQr6xAc/46Gfe6ULI/2LUYBz4ePSJ4uBkGQSxfF1Z7KDHm2+++eWXXyb1ps8///zChQvTfnqoZ1/1E/3OigQDKrw2EKm3lEnmk5lAsIwAIOQb9+QX840uzbV9uoYO7ajsYBmL/0y0kj0D29uhtz2WqO5LO1liChoOE1WvCqs94Bm1/zlveUkp37cxp8YJAFi6gsZtUYvm8hfG/UnALbntVwB6c0ySzTu3sOXrMb6qYNtbVt2i9Y0AINtfWxz35kE+tySRFvIVkzD2X/+fyv2dCU6Q6djTz5YDQBCgKopmyiWQFW3sSGMz6mVLrhxf315icui2Rb5UyDH4AlVvnD4Q7jDW7PwZxbKTuQFkeu/pmaEv421r92pZbyEwqYZbn4dCM8ti/Pc9Rsg08cPXYhVY9tQ/qejOtua9HQAAhdbUzqfMKEu4w3NK8oz3MSeheMKNGLfkGL4IxV6+MaiQF57A/5v4p6rlTLgMPFc/MgIHqkoASKQTH97QqUNHr5YxDzl3N7apem2H69ZE3WvwjRfq26cLgaIAoGbtdQpTZQAd6302JhdAUVHR1OcpkgULojP/pPB018DLu69rvbWFCAF5IQC3AtFixLGBCL2lTBKfzCSJyyjkGvrl2+f+dX/bLbWZNxBrLu0zNHY2fxXDMBRYw4nfjJ5oiDCYwTcPgdE/tSbhFEvayRJT0DD46tXEaveN9Bz43u/r/3HLB4fXm2v17x/dEyXM3BonAGAhWP/nCV48Ev41kQJu6QZrBqr/KkbxC4ERhxsx37nP5Zz4q7P+SKOjpTY64jbk/syI5e18rzPUdeT0lb8sWxQ3z43fjR2Kl2tjdlgobzrNNYmbls4H2DE3wNeu4MmK5vroRCtb7z/dIEHDf7+1oKaVCZ5umKmyvNK6AS4iFczQkV3n/ub04QTZcQM32gFQi/fPOFazLB+01jvQJAWAwKV32kFreXcYj6fA0Q/tewz+5xyfjFwd+XXH3o79NWVbvU2pJ2URT6jvB/UALo/cxM7oWM+xK53Mxn/iuUhSVonKspjm0tUP+gDF5nARBzweFBRgqLGx46ibqy2Ae/3CZdUvPOEfiGrH1b02wL024//A0K6qC6cvHxR8eYZhBF9PkBSefuNSB1gsXjDDBIzVC1qhsbgPTnQU4thAHL0lSxKfTAw8ZSRBnnTlN57av/J2z3fjjHfMpX3mlT7m9nIFGKxdXH3yh13fbzg8XQ35BpWtrM76lNhwgVSTJaam4Xj1KvjVHvr1gd2OA/Y9O0v3PFZeu4h6c199S+QI1ZwaJxAOIadWvy7ubaWA74sgYoMwEmd58H3cZ4SMf2XAwNXoRS2+4a6imlZFt7lfwwBo3V7fE5Mtx38z7vaRS1Y8uPGhh9fE56GNa5Y+kF7OzCAA860Zc4WJs6Ll3b8Cy2+7AQCr/5oGe0vcGvCES0YkVRFDtBoaYMxejpvwSQD8f7oW9+p4Crz9+9YjRndxWUXtzj1HBxxK4MLwzIlHfr2Jqt8WJhpFCY29W38SAIwffhwzB+u50o542yzdN217ofHhweGxAOD6QG+Egi7NAxDq+vay09d8yHugFrTbHQCwaMkSAMLdm2AQ4MmUNUeIeHpFS8Q4Pj05FXRwuk6JawP3ZSePZcIyAiApLC0sXCpZHu/6WbLPhfwXSgqkgLSyRUmBbesZnM5xM6RTGmndt4QCgbOYLDGyXhVQ+7Jqet1/+QFAsrgaMUOiscyycQL+sctCMky+muNqXPUlDhC3XzCC0X49pgylm/ZS7MU/BjDRbPWMj10f6Xtp+37I9O0NVRLoVM3L2sDuXtvcb21Zs7ioNGJ4LnJ2Z5I1tQ3RozOZRrp6M4XmEWegQjrxTqxuZ3Xzctb/qw+jsqKZ3RJAUnWQGwifOPbzZqNMfzzTrbvQl4HFgNfj9kE6Fdh4vdcIJGrH8ygwv2j1SeaNluBra/IABP3AlvISAIEv7gAIfO4DpEDgjhfAnUC4vxhw37iFWzedAZ72yjTXR66HUB7PUCz//nONmYWSajaMRMd6Bq6L2mbJZ6mnqpdrrYatv2tlQR9YnQe4zrfvNajdZ6RA2dHJMrh89jio5x4SVQbZzSuVxNNDgS8BXL8dWQrCNjC3CJTRBAlqxczbZxAAnE4f79gHACDvm8+1on1v8xu98qo9EgCBIVWzUWMxCFpQ4mph1oiuVwXVXvfaQB0AIDBibAcMK8R8G7NqnKE7t2LDDnjxj33CArVLeBu98WIxuMkVZxq+UAm3WQ3IbROxLP5u2eTtZHovx3FBqwyYHMmE0jCdYcKspqDsT/DQWcatBuTd0/E5doMCAGhKrjHolRQohqEg10WFjvj1MkDZGx26w0cSy2n91nDs4YSapnL8+C00AIo/YCaeAi1qGhQNUHKFnAJoZbeb42wGBQCKogCofvOBYvppcpO1nwEmJ8P442HELKf1u92TaWDoqIwpQZseUDr4L5sR9RS0KSb0IDf06yiAkTGAIirGytGrBOSsmPAjr5mhNCkup/U7WZOp32RibamuaUzm6Va9fIYFzIgri2cDoiPxMpx8SFwZJQq7yrh9us2M8Kpht5YBQBnsQY7jrDoGCYpmhm7FVAteNvNZqSLrVbFqD/dp1GYRFjurxsmFQ/giFimntpw2kVty9qt4Y5c5juP8LAOoRaczmHlVdrN1xZqmUFa0YK+SlmktHMfZWZugZzKrKGXaCa0cVgvr4NN7fAX63e4gx3F+t9PhjE3slhpeVhfhL+Nj0TKxLRhnvxKMnt+PRFevQa/bGZY66HU6nO6oF3CbNRStdnCc32Z1Cr6c10RBlUIZuNluCqDlSqWMAgCZxp6CIlN9ehT8NiDCLfWr6My7JY4TLCMuoVvKvH16LSLcEuc0qQDQKjPH2WSJq6xI3WYnWSJPvSqkdr9VAbrb5uc4t51/lcYMZtU4OY7VMaAiqou4JuFnZQAVJ+EOn1tym2WAops1qSnI4kbHs1o6SgJBbHoZoJ69zBqi8FsYQCN2/VOwXwHIdDaH3WbRy5Uxax1icFpZ+6wtmZlrBfot4Tw2gk909qsAyCOzIlnUVMzituk7i0/04raoAbrfarfbWY1MbhK8KuhkWf5OWkJsckBvnbi7vV8NAMrexNdk7uniENabO5xMMyuNP1ZDU+o5y8XsUFEAJfg5hDscMo1a6NtJMvlQ0KoBNBlfxJRcveq3ygCFweJw2E1auUowbdGsGmfQKovptMVzS0FbNyIHrmbC45b8Nj0AyBQUYEjUXLQrMLHiTBReMw3oo1NJZwG7QQGoxMjtNmtmDngy2U1/PvcK9FoYYCIiIyF+qx4AHdH28WopxB3PFF8F+FnZzDKI0+tPn/CQtbx7yrPalYDYYcM5Q0QGcV02Moj7bb1KuZyhAJqRK3Wp9DKTh9XJAKpX6Eu26iYsSKDWTsItpZQsUSzi69UZsycAQPU65kTvcbBoqNjRkXhuKTxMGm9tMu8gnt9i0CqVKgMroJqgvTfBrSNxqCK++ewS7FUiQUcwJ8mKAp1qOu7MUwR+CxPlM4JWGRD3O8mFtJiRhNMNQDb1XYXrd2GXPKcI6s3PysEzz3dXEm5xKwxCW1u4TTQASiXQTfCaAeRCcSdTr+YKjn4lII9tM1vU4MnUzPm75UiwKYmY/ZYS4XewFpuIkvQ7TOaUN0aZDfysSUSOoNwhOwqcaHqLyPkUdmAz+hbO3qhcwhHknlviOL/danVMTSFM9NKE6rI5RlBv4Q6u8NDW3YFTTc1sScQjaNYotCbBknSb+3OlThBbr+YMDouZV16vzczzQzjuPP7gU7puiXB3E45liLdb1wzCzR+6fzIgwWtRxwsm5DiO8/xiGVb+ypc5QTMNq5MjMog0JxDSm9+qAwCFYT61tNPAqpffI13DuwlWJ0tcallZmkeYN6zeVAvAzP6H0ImSr1fIAOOVGxNrau0X+tAQP9eFZG05lpRw8X7OMoHRHqrxJK02qWLyVmQZIb05rlwGINvIk4bwrqTs7/+RgfH7pwezLQhBNIHhI42dlOrVBFsdErdESETBgw/TgLHvDx6hM7+2aQuAi+xnAIDA8IBRsSXRNkv3YXa3s0od1/nH1+6mVL3vtmxLL6fIrJBQb6FrQwMAHq1cNWfyZBlpVZuWMTZXnx2bF7vxEjD8b0c6QR3dX5vgHOKWCAkpLKujAOPAdaHdXaQrigGwVx0hAHBfMYjaZinnCAzvK6pZrDFZDtdJEBo62zeWpb3BUsJ58RwLMJtS2IN83lLRdFxNgWk8LthyImSf8T7Z/k5Gq0u8ASNxS4TEFD/SQAOGi9cE/FLeVx+UAaz5qg+A78Y50BRvrtmcZvyHVdQDevbMwXA/ydNz+B1/DvaY4uFie1iArheXn+muobjlfRNtbP7WkfPZloSQmPEj9fUspT7eVJH4POKWCAI8/FgdgN4L8dPHhpGsfpQGjBc/CyEUb5ulnMbTta+kjcUXF3/e1NTU1NS0r7aofXlFyfxxS+MWEwvIntmaI7vZzh0F2961dhtba5p6RrMtCiEermO1Ja2s3HKhJXpfiRjmzzdHyBIFG3bIgM4z77kOViTseUtLqykY2eseLP403jZLuUtgpHdvJyiK6uzomDrIaDbNn45H6NJvzwHYXbc+25JkAUlZg99uuehdnG1BCHEIYXOLyfHuNr7dVKMhvSWCEFJqtwIw6j8SmFXOK3mIAtg/3XTdtLLMxnk26y4p28Nx3OXLl2cGqp45mOY2sHNIwNrdwYLRhjc/uAeRlFZsK8/VOBpCXuG2OlE+CcQtEUSQR+/TAOzPDZbE562itgAYslgGjWy8bZYIs4TrwzOdgPLg38+f7h2BwA9xSwRhpBX7NDQMze1DCeMeFq14iALMZ7TNRvoRwW2WCJnEpftRG6B4rkZw3J5AyHWIWyKIoaDxdS1gUHUNJzgpb1lJNcAaDAC9Zn7NLM1zXOd1rUbI9U1r7tEBPMJdBXFLBFFIK/boZDDsP5yowyRZVRHes1K2XnDJ0i0gP9Fu7AR++PQ2rv1uKyA/9HRZVkQiEDILcUsEkUhlPzIAhpc6EqwOkW6opAEwj35dYGpTUjHof7dinkWQ5wB8ehvt+UkbC2Xv98tIV4lwV0DcEkEseaU7LVrG2FbTMxo380HhmnUAtm76muDdJBLilFIhWm++wRd3d0De3VZHZpUIdwnELRGSIJzoZffan4zHOaGkvAIAtZLEO8wNvq4D1QbIWU0DcfKEuwbilghJUdzynolGW8krZ3l7TNKvbWAo5foiMpw0FwyfOrC3E902TTlxSoS7iAUcl6u7CxBylcBoz+NrO9u9Z+JvXEGYfQLD+xZRj5qdTVVkDSnhroK4JQKBQCDkEGQQj0AgEAg5BHFLBAKBQMghiFsiEAgEQg5B3BKBQCAQcgjilggEAoGQQ/x/uwMhc21S5tgAAAAASUVORK5CYII=)"
      ],
      "metadata": {
        "id": "EhCldDzmoZpY"
      }
    },
    {
      "cell_type": "code",
      "source": [
        "def eggholder(x):\n",
        "     return (-(x[1] + 47) * np.sin(np.sqrt(abs(x[0]/2 + (x[1]  + 47))))\n",
        "           -x[0] * np.sin(np.sqrt(abs(x[0] - (x[1]  + 47)))))\n",
        "\n",
        "bounds = [(-512, 512), (-512, 512)]"
      ],
      "metadata": {
        "id": "oXdq-fwcq5F-"
      },
      "execution_count": 20,
      "outputs": []
    },
    {
      "cell_type": "code",
      "source": [
        "from scipy import optimize\n",
        "results = dict()\n",
        "results['shgo'] = optimize.shgo(eggholder, bounds) #shgo - finds global minimum of a function using SHG optimization.\n",
        "results['shgo']"
      ],
      "metadata": {
        "colab": {
          "base_uri": "https://localhost:8080/"
        },
        "id": "CBqZ48j-q8zB",
        "outputId": "ddf91f99-f8b9-499d-d926-a58d82a869ab"
      },
      "execution_count": 21,
      "outputs": [
        {
          "output_type": "execute_result",
          "data": {
            "text/plain": [
              "     fun: -935.3379515605128\n",
              "    funl: array([-935.33795156])\n",
              " message: 'Optimization terminated successfully.'\n",
              "    nfev: 55\n",
              "     nit: 2\n",
              "   nlfev: 50\n",
              "   nlhev: 0\n",
              "   nljev: 10\n",
              " success: True\n",
              "       x: array([439.48097806, 453.97741934])\n",
              "      xl: array([[439.48097806, 453.97741934]])"
            ]
          },
          "metadata": {},
          "execution_count": 21
        }
      ]
    },
    {
      "cell_type": "markdown",
      "source": [
        "Example 4 : Solving a non linear least squares problem with bounds on the variable"
      ],
      "metadata": {
        "id": "mBXL_NhUnzfO"
      }
    },
    {
      "cell_type": "code",
      "source": [
        "#Rosenbrock Function\n",
        "import numpy as np\n",
        "def fun_rosenbrock(x):\n",
        "   return np.array([10 * (x[1] - x[0]**2), (1 - x[0])])\n",
        "   \n",
        "from scipy.optimize import least_squares\n",
        "input = np.array([1, 2])\n",
        "res = least_squares(fun_rosenbrock, input)\n",
        "\n",
        "print (res)"
      ],
      "metadata": {
        "colab": {
          "base_uri": "https://localhost:8080/"
        },
        "id": "oQzT9anen4tE",
        "outputId": "9134cd07-874d-4162-f063-1fd37f79e87e"
      },
      "execution_count": 6,
      "outputs": [
        {
          "output_type": "stream",
          "name": "stdout",
          "text": [
            " active_mask: array([0., 0.])\n",
            "        cost: 2.465190328815662e-30\n",
            "         fun: array([-2.22044605e-15,  0.00000000e+00])\n",
            "        grad: array([ 4.44089213e-14, -2.22044605e-14])\n",
            "         jac: array([[-20.00000015,  10.        ],\n",
            "       [ -1.        ,   0.        ]])\n",
            "     message: '`gtol` termination condition is satisfied.'\n",
            "        nfev: 2\n",
            "        njev: 2\n",
            "  optimality: 4.4408921315878507e-14\n",
            "      status: 1\n",
            "     success: True\n",
            "           x: array([1., 1.])\n"
          ]
        }
      ]
    },
    {
      "cell_type": "markdown",
      "source": [
        "Example 5 : Root Finding of the equation x2 + 2cos(x) = 0"
      ],
      "metadata": {
        "id": "0h40Me1G1Ghv"
      }
    },
    {
      "cell_type": "code",
      "source": [
        "import numpy as np\n",
        "from scipy.optimize import root\n",
        "def func(x):\n",
        "   return x*2 + 2 * np.cos(x)\n",
        "sol = root(func, 0.5)\n",
        "print (sol)"
      ],
      "metadata": {
        "colab": {
          "base_uri": "https://localhost:8080/"
        },
        "id": "u1C-q-p_n5B8",
        "outputId": "ccf44393-620c-4b03-b941-357223c30903"
      },
      "execution_count": 10,
      "outputs": [
        {
          "output_type": "stream",
          "name": "stdout",
          "text": [
            "    fjac: array([[-1.]])\n",
            "     fun: array([1.11022302e-15])\n",
            " message: 'The solution converged.'\n",
            "    nfev: 10\n",
            "     qtf: array([-1.46130419e-09])\n",
            "       r: array([-3.34722609])\n",
            "  status: 1\n",
            " success: True\n",
            "       x: array([-0.73908513])\n"
          ]
        }
      ]
    },
    {
      "cell_type": "code",
      "source": [
        ""
      ],
      "metadata": {
        "id": "08YPl1pX1F45"
      },
      "execution_count": null,
      "outputs": []
    }
  ]
}