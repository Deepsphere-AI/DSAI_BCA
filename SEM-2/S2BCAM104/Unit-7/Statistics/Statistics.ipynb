{
  "nbformat": 4,
  "nbformat_minor": 0,
  "metadata": {
    "colab": {
      "name": "Statistics.ipynb",
      "provenance": []
    },
    "kernelspec": {
      "name": "python3",
      "display_name": "Python 3"
    },
    "language_info": {
      "name": "python"
    }
  },
  "cells": [
    {
      "cell_type": "markdown",
      "source": [
        "Example 1 : Normal Distribution"
      ],
      "metadata": {
        "id": "LZCxwV0Daj0v"
      }
    },
    {
      "cell_type": "code",
      "execution_count": 1,
      "metadata": {
        "colab": {
          "base_uri": "https://localhost:8080/"
        },
        "id": "rHgIcPFhaYgj",
        "outputId": "13fcc226-8c92-4723-d375-6c28f8aa746d"
      },
      "outputs": [
        {
          "output_type": "stream",
          "name": "stdout",
          "text": [
            "[0.84134475 0.15865525 0.5        0.84134475 0.9986501  0.99996833\n",
            " 0.02275013 1.        ]\n"
          ]
        }
      ],
      "source": [
        "from scipy.stats import norm\n",
        "import numpy as np\n",
        "print(norm.cdf(np.array([1,-1., 0, 1, 3, 4, -2, 6])))"
      ]
    },
    {
      "cell_type": "markdown",
      "source": [
        "Example 2 : Uniform Distribution"
      ],
      "metadata": {
        "id": "sAwBMZmEbWok"
      }
    },
    {
      "cell_type": "code",
      "source": [
        "from scipy.stats import uniform\n",
        "print(uniform.cdf([0, 1, 2, 3, 4, 5], loc = 1, scale = 4))"
      ],
      "metadata": {
        "colab": {
          "base_uri": "https://localhost:8080/"
        },
        "id": "sUb2BFXZaeQW",
        "outputId": "d9e49343-9641-420b-be2f-830fee55b9eb"
      },
      "execution_count": 3,
      "outputs": [
        {
          "output_type": "stream",
          "name": "stdout",
          "text": [
            "[0.   0.   0.25 0.5  0.75 1.  ]\n"
          ]
        }
      ]
    },
    {
      "cell_type": "markdown",
      "source": [
        "Example 3: Descriptive Statistics"
      ],
      "metadata": {
        "id": "O9GFcIY0b2qb"
      }
    },
    {
      "cell_type": "code",
      "source": [
        "from scipy import stats\n",
        "import numpy as np\n",
        "x = np.array([1,2,3,4,5,6,7,8,9])\n",
        "print(x.max(),x.min(),x.mean(),x.var())\n"
      ],
      "metadata": {
        "colab": {
          "base_uri": "https://localhost:8080/"
        },
        "id": "HJXBuqwCbzb9",
        "outputId": "04d1ef45-3518-4e55-bffd-428d79f71531"
      },
      "execution_count": 5,
      "outputs": [
        {
          "output_type": "stream",
          "name": "stdout",
          "text": [
            "9 1 5.0 6.666666666666667\n"
          ]
        }
      ]
    },
    {
      "cell_type": "markdown",
      "source": [
        "Example 4 : T-Test"
      ],
      "metadata": {
        "id": "hQy_E4Xrd9DO"
      }
    },
    {
      "cell_type": "code",
      "source": [
        "from scipy import stats\n",
        "rvs = stats.norm.rvs(loc = 5, scale = 10, size = (50,2))\n",
        "print(stats.ttest_1samp(rvs,5.0))"
      ],
      "metadata": {
        "colab": {
          "base_uri": "https://localhost:8080/"
        },
        "id": "FKvc2tCPd4iY",
        "outputId": "2563aacc-fc76-4179-ab2d-b299f6847df2"
      },
      "execution_count": 7,
      "outputs": [
        {
          "output_type": "stream",
          "name": "stdout",
          "text": [
            "Ttest_1sampResult(statistic=array([ 1.7744371 , -0.16777637]), pvalue=array([0.08220374, 0.86744977]))\n"
          ]
        }
      ]
    },
    {
      "cell_type": "code",
      "source": [
        ""
      ],
      "metadata": {
        "id": "v49Ivgo5d6DE"
      },
      "execution_count": null,
      "outputs": []
    }
  ]
}