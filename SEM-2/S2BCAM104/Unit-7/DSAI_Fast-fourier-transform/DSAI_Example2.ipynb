{
  "nbformat": 4,
  "nbformat_minor": 0,
  "metadata": {
    "colab": {
      "name": "DSAI_Example2.ipynb",
      "provenance": [],
      "toc_visible": true
    },
    "kernelspec": {
      "name": "python3",
      "display_name": "Python 3"
    },
    "language_info": {
      "name": "python"
    }
  },
  "cells": [
    {
      "cell_type": "markdown",
      "source": [
        "\n",
        "##### Copyright (c) DeepSphere.AI 2021\n",
        "##### All rights reserved\n",
        "\n",
        "###### We are sharing this partial code for learning and research, and the idea behind us sharing the source code is to stimulate ideas and thoughts for the learners .\n",
        "\n",
        "###### Author: # DeepSphere.AI | deepsphere.ai | dsschoolofai.com info@deepsphere.ai\n",
        "\n",
        "###### Release: Initial release\n",
        "\n"
      ],
      "metadata": {
        "id": "85KCWzLsUdiq"
      }
    },
    {
      "cell_type": "markdown",
      "source": [
        "## Generate noisy input signal and generate sampling frequencies from signal"
      ],
      "metadata": {
        "id": "YvQXfqiLTTAj"
      }
    },
    {
      "cell_type": "code",
      "execution_count": 14,
      "metadata": {
        "colab": {
          "base_uri": "https://localhost:8080/"
        },
        "id": "D8_tRrtIS8Ju",
        "outputId": "8d10f4a0-7ac9-4f3f-849a-28765c3edbf2"
      },
      "outputs": [
        {
          "output_type": "stream",
          "name": "stdout",
          "text": [
            "50\n",
            "[ 6.77763065e+00-0.j          1.06429840e+01-0.93776765j\n",
            "  1.54783361e+01+0.26319826j -1.39455823e+01+4.76897041j\n",
            " -8.08888436e+00+2.74015445j -2.28546372e-03-0.53141764j\n",
            " -4.25077215e-01+0.3773785j   6.03913435e+00-0.43631965j\n",
            " -6.84240830e+00-2.78160385j -5.40333622e+00+0.49681499j\n",
            "  4.98403484e+00+2.00651497j  5.01116853e+00+0.8005226j\n",
            " -5.12267012e+00+3.39942051j -1.36007701e+00-2.19508238j\n",
            " -3.45455183e+00+2.18998854j  4.52817824e-01-1.54511402j\n",
            " -1.13204717e+00+0.95424809j  5.14301110e-01-2.78493012j\n",
            " -1.30595950e+00+3.15511215j  2.22299029e+00+1.14783177j\n",
            " -2.33086979e+00-3.39858272j  2.54944964e+00+2.80796504j\n",
            " -1.16253172e+00+5.65836729j -1.42417878e+00+0.94188983j\n",
            "  2.47599509e+00+0.00640909j  1.73663107e+00-0.j\n",
            "  2.47599509e+00-0.00640909j -1.42417878e+00-0.94188983j\n",
            " -1.16253172e+00-5.65836729j  2.54944964e+00-2.80796504j\n",
            " -2.33086979e+00+3.39858272j  2.22299029e+00-1.14783177j\n",
            " -1.30595950e+00-3.15511215j  5.14301110e-01+2.78493012j\n",
            " -1.13204717e+00-0.95424809j  4.52817824e-01+1.54511402j\n",
            " -3.45455183e+00-2.18998854j -1.36007701e+00+2.19508238j\n",
            " -5.12267012e+00-3.39942051j  5.01116853e+00-0.8005226j\n",
            "  4.98403484e+00-2.00651497j -5.40333622e+00-0.49681499j\n",
            " -6.84240830e+00+2.78160385j  6.03913435e+00+0.43631965j\n",
            " -4.25077215e-01-0.3773785j  -2.28546372e-03+0.53141764j\n",
            " -8.08888436e+00-2.74015445j -1.39455823e+01-4.76897041j\n",
            "  1.54783361e+01-0.26319826j  1.06429840e+01+0.93776765j]\n"
          ]
        }
      ],
      "source": [
        "import numpy as np\n",
        "time_step = 0.1\n",
        "period = 2.\n",
        "time_vec = np.arange(0, 5, time_step)\n",
        "sig = np.sin(2 * np.pi / period * time_vec) + 0.5 *np.random.randn(time_vec.size)\n",
        "print(sig.size)\n",
        "\n",
        "from scipy import fftpack\n",
        "sample_freq = fftpack.fftfreq(sig.size, d = time_step)\n",
        "sig_fft = fftpack.fft(sig)\n",
        "print (sig_fft)"
      ]
    },
    {
      "cell_type": "code",
      "source": [
        ""
      ],
      "metadata": {
        "id": "Yr9V-ZBJTXYj"
      },
      "execution_count": null,
      "outputs": []
    }
  ]
}