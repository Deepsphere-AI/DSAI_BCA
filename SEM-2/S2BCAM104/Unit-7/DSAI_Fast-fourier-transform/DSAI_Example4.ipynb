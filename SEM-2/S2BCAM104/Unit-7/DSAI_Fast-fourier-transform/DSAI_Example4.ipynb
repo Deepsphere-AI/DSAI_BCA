{
  "nbformat": 4,
  "nbformat_minor": 0,
  "metadata": {
    "colab": {
      "name": "DSAI_Example4.ipynb",
      "provenance": [],
      "toc_visible": true
    },
    "kernelspec": {
      "name": "python3",
      "display_name": "Python 3"
    },
    "language_info": {
      "name": "python"
    }
  },
  "cells": [
    {
      "cell_type": "markdown",
      "source": [
        "\n",
        "##### Copyright (c) DeepSphere.AI 2021\n",
        "##### All rights reserved\n",
        "\n",
        "###### We are sharing this partial code for learning and research, and the idea behind us sharing the source code is to stimulate ideas and thoughts for the learners .\n",
        "\n",
        "###### Author: # DeepSphere.AI | deepsphere.ai | dsschoolofai.com info@deepsphere.ai\n",
        "\n",
        "###### Release: Initial release\n",
        "\n"
      ],
      "metadata": {
        "id": "85KCWzLsUdiq"
      }
    },
    {
      "cell_type": "markdown",
      "source": [
        "## Discrete Cosine Transform"
      ],
      "metadata": {
        "id": "YvQXfqiLTTAj"
      }
    },
    {
      "cell_type": "code",
      "execution_count": 18,
      "metadata": {
        "colab": {
          "base_uri": "https://localhost:8080/"
        },
        "id": "D8_tRrtIS8Ju",
        "outputId": "3650e837-cc96-4e5c-a229-4fc8f9fa581c"
      },
      "outputs": [
        {
          "output_type": "stream",
          "name": "stdout",
          "text": [
            "[44.         -8.28771932 -8.48528137  9.55582066]\n"
          ]
        }
      ],
      "source": [
        "from scipy.fftpack import dct\n",
        "import numpy as np\n",
        "\n",
        "print(dct(np.array([3., 4., 10., 5.])))"
      ]
    },
    {
      "cell_type": "code",
      "source": [
        ""
      ],
      "metadata": {
        "id": "Yr9V-ZBJTXYj"
      },
      "execution_count": null,
      "outputs": []
    }
  ]
}